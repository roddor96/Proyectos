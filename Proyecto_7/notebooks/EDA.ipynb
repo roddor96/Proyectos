{
 "cells": [
  {
   "cell_type": "code",
   "execution_count": 2,
   "id": "61a99bfc",
   "metadata": {},
   "outputs": [
    {
     "name": "stdout",
     "output_type": "stream",
     "text": [
      "<class 'pandas.core.frame.DataFrame'>\n",
      "RangeIndex: 51525 entries, 0 to 51524\n",
      "Data columns (total 13 columns):\n",
      " #   Column        Non-Null Count  Dtype  \n",
      "---  ------        --------------  -----  \n",
      " 0   price         51525 non-null  int64  \n",
      " 1   model_year    47906 non-null  float64\n",
      " 2   model         51525 non-null  object \n",
      " 3   condition     51525 non-null  object \n",
      " 4   cylinders     46265 non-null  float64\n",
      " 5   fuel          51525 non-null  object \n",
      " 6   odometer      43633 non-null  float64\n",
      " 7   transmission  51525 non-null  object \n",
      " 8   type          51525 non-null  object \n",
      " 9   paint_color   42258 non-null  object \n",
      " 10  is_4wd        25572 non-null  float64\n",
      " 11  date_posted   51525 non-null  object \n",
      " 12  days_listed   51525 non-null  int64  \n",
      "dtypes: float64(4), int64(2), object(7)\n",
      "memory usage: 5.1+ MB\n",
      "\n",
      "Hay 0 datos duplicados\n"
     ]
    }
   ],
   "source": [
    "'''Importar las librerías que vamos a usar'''\n",
    "import pandas as pd\n",
    "import plotly.express as px\n",
    "\n",
    "'''Asignar los datos a un DF'''\n",
    "car_data=pd.read_csv('C:\\\\Users\\\\Rodrigo\\\\Documents\\\\Tripleten\\\\Proyecto7\\\\vehicles_us.csv')\n",
    "\n",
    "'''Revisar los datos'''\n",
    "car_data.info()\n",
    "print('\\nHay',car_data.duplicated().sum(),'datos duplicados')"
   ]
  },
  {
   "cell_type": "code",
   "execution_count": 3,
   "id": "c71d7cf0",
   "metadata": {},
   "outputs": [
    {
     "name": "stdout",
     "output_type": "stream",
     "text": [
      "La categoría model_year tiene 3619 datos vacios\n",
      "La categoría cylinders tiene 5260 datos vacios\n",
      "La categoría odometer tiene 7892 datos vacios\n",
      "La categoría paint_color tiene 9267 datos vacios\n",
      "La categoría is_4wd tiene 25953 datos vacios\n"
     ]
    }
   ],
   "source": [
    "'''Revisar los datos vacios'''\n",
    "for category in car_data.columns:\n",
    "    if car_data[category].isna().sum() != 0:\n",
    "        print(f'La categoría {category} tiene',car_data[category].isna().sum(),'datos vacios')\n",
    "    "
   ]
  },
  {
   "cell_type": "code",
   "execution_count": 4,
   "id": "a155981e",
   "metadata": {},
   "outputs": [
    {
     "name": "stdout",
     "output_type": "stream",
     "text": [
      "<class 'pandas.core.frame.DataFrame'>\n",
      "RangeIndex: 51525 entries, 0 to 51524\n",
      "Data columns (total 13 columns):\n",
      " #   Column        Non-Null Count  Dtype         \n",
      "---  ------        --------------  -----         \n",
      " 0   price         51525 non-null  int64         \n",
      " 1   model_year    51525 non-null  int64         \n",
      " 2   model         51525 non-null  object        \n",
      " 3   condition     51525 non-null  object        \n",
      " 4   cylinders     51525 non-null  int64         \n",
      " 5   fuel          51525 non-null  object        \n",
      " 6   odometer      51525 non-null  int64         \n",
      " 7   transmission  51525 non-null  object        \n",
      " 8   type          51525 non-null  object        \n",
      " 9   paint_color   51525 non-null  object        \n",
      " 10  is_4wd        51525 non-null  int64         \n",
      " 11  date_posted   51525 non-null  datetime64[ns]\n",
      " 12  days_listed   51525 non-null  int64         \n",
      "dtypes: datetime64[ns](1), int64(6), object(6)\n",
      "memory usage: 5.1+ MB\n"
     ]
    }
   ],
   "source": [
    "'''\"is_4wd\" se refiere si el auto tiene tracción en las 4 ruedas, comprobar que solo hay datos vacios y 1s, \n",
    "de ser así cambiar los datos vacios por 0'''\n",
    "\n",
    "traccion=car_data.groupby(['is_4wd'])['model'].count()\n",
    "car_data['is_4wd']=car_data['is_4wd'].fillna(0)\n",
    "\n",
    "'''El color de la pintura se va a rellenar con \"Unknown\" no hay otra forma de llenarlo'''\n",
    "\n",
    "car_data['paint_color']=car_data['paint_color'].fillna('Unknown')\n",
    "\n",
    "'''El número de cilindros, kilometraje y año se van a rellenar con el promedio de su categoría'''\n",
    "\n",
    "car_data['cylinders']=car_data['cylinders'].fillna(int(car_data['cylinders'].mean()))\n",
    "car_data['model_year']=car_data['model_year'].fillna(int(car_data['model_year'].mean()))\n",
    "car_data['odometer']=car_data['odometer'].fillna(int(car_data['odometer'].mean()))\n",
    "\n",
    "'''El tipo de datos de las categorías model_year, cylinders, odometer y is_4wd serán cambiados a int'''\n",
    "\n",
    "type_change=['model_year','cylinders','odometer','is_4wd']\n",
    "for category in type_change:\n",
    "    car_data[category]=car_data[category].astype('int')\n",
    "\n",
    "'''Cambiar el tipo de dato de date_posted'''\n",
    "\n",
    "import datetime as dt\n",
    "car_data['date_posted'] = pd.to_datetime(car_data['date_posted'], format='%Y-%m-%d')\n",
    "\n",
    "'''Confirmar que los cambios se hayan realizado'''\n",
    "\n",
    "car_data.info()\n",
    "\n",
    "\n"
   ]
  },
  {
   "cell_type": "code",
   "execution_count": 5,
   "id": "3cf82864",
   "metadata": {},
   "outputs": [
    {
     "name": "stdout",
     "output_type": "stream",
     "text": [
      "       price  model_year                     model  condition  cylinders fuel  \\\n",
      "20914      1        2016          chevrolet camaro  excellent         10  gas   \n",
      "23424   2500        2000       jeep grand cherokee       good          8  gas   \n",
      "24857  15995        2014           chevrolet tahoe       good          8  gas   \n",
      "35296  10995        2017             nissan sentra   like new          4  gas   \n",
      "7980    5300        2005       jeep grand cherokee       good          8  gas   \n",
      "31711  20990        2015  chevrolet silverado 1500       good          8  gas   \n",
      "3739   11999        2017             nissan maxima   like new          6  gas   \n",
      "15917  19649        2017                  ram 2500  excellent          8  gas   \n",
      "1128    6990        2008           gmc sierra 1500  excellent          6  gas   \n",
      "50522   9495        2007                ford f-150  excellent          8  gas   \n",
      "\n",
      "       odometer transmission    type paint_color  is_4wd date_posted  \\\n",
      "20914     48223        other   coupe      silver       1  2019-02-21   \n",
      "23424    159000    automatic   truck      silver       1  2019-01-09   \n",
      "24857    152000    automatic     SUV       white       1  2018-12-27   \n",
      "35296     83000        other   sedan         red       0  2019-02-08   \n",
      "7980     156000    automatic     SUV       white       1  2019-01-10   \n",
      "31711    115553    automatic   truck       black       0  2019-02-13   \n",
      "3739      55919    automatic   truck       white       0  2019-04-05   \n",
      "15917    115588    automatic   truck     Unknown       1  2018-05-21   \n",
      "1128     121419    automatic  pickup       white       0  2019-03-21   \n",
      "50522    149224    automatic  pickup     Unknown       1  2019-01-28   \n",
      "\n",
      "       days_listed      brand  \n",
      "20914           48  chevrolet  \n",
      "23424           63       jeep  \n",
      "24857           18  chevrolet  \n",
      "35296           47     nissan  \n",
      "7980           113       jeep  \n",
      "31711           17  chevrolet  \n",
      "3739            16     nissan  \n",
      "15917           59        ram  \n",
      "1128            46        gmc  \n",
      "50522           52       ford  \n"
     ]
    }
   ],
   "source": [
    "car_data['brand'] = car_data['model'].str.split(' ', n=1, expand=True)[0]\n",
    "\n",
    "\n",
    "print(car_data.sample(10))"
   ]
  }
 ],
 "metadata": {
  "kernelspec": {
   "display_name": "Python 3",
   "language": "python",
   "name": "python3"
  },
  "language_info": {
   "codemirror_mode": {
    "name": "ipython",
    "version": 3
   },
   "file_extension": ".py",
   "mimetype": "text/x-python",
   "name": "python",
   "nbconvert_exporter": "python",
   "pygments_lexer": "ipython3",
   "version": "3.13.3"
  }
 },
 "nbformat": 4,
 "nbformat_minor": 5
}
