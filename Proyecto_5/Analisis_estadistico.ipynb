{
 "cells": [
  {
   "cell_type": "markdown",
   "metadata": {},
   "source": [
    "<div class=\"alert alert-block alert-success\">\n",
    "<b>Comentario general del revisor</b> <a class=\"tocSkip\"></a><br />\n",
    "Status del proyecto: <b>Aprobado</b>\n",
    "\n",
    "\n",
    "</div>\n"
   ]
  },
  {
   "cell_type": "markdown",
   "metadata": {},
   "source": [
    "¡Hola!<br />\n",
    "Soy **Francisco Cortés**, estoy contento de revisar tu proyecto y ser parte de tu proceso de aprendizaje.\n",
    "A lo largo del texto, haré algunas observaciones sobre mejoras en el código y también haré comentarios sobre tus percepciones sobre el tema. Si existe algún error en el código, no te preocupes, estoy aquí para ayudarte a mejorarlo, en la primera iteración te lo señalaré para que tengas la oportunidad de corregirlo, pero si aún no encuentras una solución para esta tarea, te daré una pista más precisa en la próxima iteración y también algunos ejemplos prácticos. Estaré abierto a retroalimentación y discusiones sobre el tema.<br />\n",
    "Encontrarás mis comentarios a continuación - **por favor no los muevas, modifiques o borres**.\n",
    "Revisaré cuidadosamente tu código para comprobar que se han cumplido con los requisitos y te proporcionaré mis comentarios en cajas verdes, amarillas o rojas como esta:\n",
    "\n",
    "<div class=\"alert alert-block alert-success\">\n",
    "<b>Comentario del revisor</b> <a class=\"tocSkip\"></a>\n",
    "\n",
    "Si la ejecución fue perfecta succesfully.\n",
    "</div>\n",
    "\n",
    "<div class=\"alert alert-block alert-warning\">\n",
    "<b>Comentario del revisor</b> <a class=\"tocSkip\"></a>\n",
    "\n",
    "Si existe alguna recomendación para que tu código mejore.\n",
    "</div>\n",
    "\n",
    "<div class=\"alert alert-block alert-danger\">\n",
    "\n",
    "<b>Comentario del revisor</b> <a class=\"tocSkip\"></a>\n",
    "\n",
    "Si existen correcciones necesarias para cumplir con los requisitos. El trabajo no puede ser aceptado si hay alguna caja roja.\n",
    "</div>\n",
    "\n",
    "Puedes responderme de la siguiente manera:\n",
    "\n",
    "<div class=\"alert alert-block alert-info\">\n",
    "<b>Respuesta del estudiante.</b> <a class=\"tocSkip\"></a>\n",
    "</div>\n"
   ]
  },
  {
   "cell_type": "markdown",
   "metadata": {
    "id": "3rYiDeEH0q0f"
   },
   "source": [
    "# ¿Cuál es la mejor tarifa?\n",
    "\n",
    "Trabajas como analista para el operador de telecomunicaciones Megaline. La empresa ofrece a sus clientes dos tarifas de prepago, Surf y Ultimate. El departamento comercial quiere saber cuál de las tarifas genera más ingresos para poder ajustar el presupuesto de publicidad.\n",
    "\n",
    "Vas a realizar un análisis preliminar de las tarifas basado en una selección de clientes relativamente pequeña. Tendrás los datos de 500 clientes de Megaline: quiénes son los clientes, de dónde son, qué tarifa usan, así como la cantidad de llamadas que hicieron y los mensajes de texto que enviaron en 2018. Tu trabajo es analizar el comportamiento de los clientes y determinar qué tarifa de prepago genera más ingresos."
   ]
  },
  {
   "cell_type": "markdown",
   "metadata": {
    "id": "VNddPNRQ0q0w"
   },
   "source": [
    "[Te proporcionamos algunos comentarios para orientarte mientras completas este proyecto. Pero debes asegurarte de eliminar todos los comentarios entre corchetes antes de entregar tu proyecto.]\n",
    "\n",
    "[Antes de sumergirte en el análisis de datos, explica por tu propia cuenta el propósito del proyecto y las acciones que planeas realizar.]\n",
    "\n",
    "[Ten en cuenta que estudiar, modificar y analizar datos es un proceso iterativo. Es normal volver a los pasos anteriores y corregirlos/ampliarlos para permitir nuevos pasos.]"
   ]
  },
  {
   "cell_type": "markdown",
   "metadata": {
    "id": "MQi4IPy70q0y"
   },
   "source": [
    "## Inicialización"
   ]
  },
  {
   "cell_type": "code",
   "execution_count": 1,
   "metadata": {
    "id": "MtYIuBxu0q0z"
   },
   "outputs": [],
   "source": [
    "# Cargar todas las librerías\n",
    "import pandas as pd\n",
    "import numpy as np\n",
    "from scipy import stats as st\n",
    "\n",
    "\n"
   ]
  },
  {
   "cell_type": "markdown",
   "metadata": {
    "id": "4ysWWC5i0q00"
   },
   "source": [
    "## Cargar datos"
   ]
  },
  {
   "cell_type": "code",
   "execution_count": 2,
   "metadata": {
    "id": "CCqPW7rS0q01"
   },
   "outputs": [],
   "source": [
    "# Carga los archivos de datos en diferentes DataFrames\n",
    "\n",
    "users= pd.read_csv('/datasets/megaline_users.csv')\n",
    "plans=pd.read_csv('/datasets/megaline_plans.csv')\n",
    "messages=pd.read_csv('/datasets/megaline_messages.csv')\n",
    "internet=pd.read_csv('/datasets/megaline_internet.csv')\n",
    "calls=pd.read_csv('/datasets/megaline_calls.csv')\n",
    "\n",
    "\n"
   ]
  },
  {
   "cell_type": "markdown",
   "metadata": {
    "id": "69qqoJ3r0q01"
   },
   "source": [
    "## Preparar los datos"
   ]
  },
  {
   "cell_type": "markdown",
   "metadata": {
    "id": "vUuZw80S0q01"
   },
   "source": [
    "[Los datos para este proyecto se dividen en varias tablas. Explora cada una para tener una comprensión inicial de los datos. Si es necesario, haz las correcciones requeridas en cada tabla.]"
   ]
  },
  {
   "cell_type": "markdown",
   "metadata": {
    "id": "ohBhimvH0q01"
   },
   "source": [
    "## Tarifas"
   ]
  },
  {
   "cell_type": "code",
   "execution_count": 3,
   "metadata": {
    "id": "GptqP3Q40q02"
   },
   "outputs": [
    {
     "name": "stdout",
     "output_type": "stream",
     "text": [
      "<class 'pandas.core.frame.DataFrame'>\n",
      "RangeIndex: 2 entries, 0 to 1\n",
      "Data columns (total 8 columns):\n",
      " #   Column                 Non-Null Count  Dtype  \n",
      "---  ------                 --------------  -----  \n",
      " 0   messages_included      2 non-null      int64  \n",
      " 1   mb_per_month_included  2 non-null      int64  \n",
      " 2   minutes_included       2 non-null      int64  \n",
      " 3   usd_monthly_pay        2 non-null      int64  \n",
      " 4   usd_per_gb             2 non-null      int64  \n",
      " 5   usd_per_message        2 non-null      float64\n",
      " 6   usd_per_minute         2 non-null      float64\n",
      " 7   plan_name              2 non-null      object \n",
      "dtypes: float64(2), int64(5), object(1)\n",
      "memory usage: 256.0+ bytes\n"
     ]
    }
   ],
   "source": [
    "# Imprime la información general/resumida sobre el DataFrame de las tarifas\n",
    "plans.info()\n"
   ]
  },
  {
   "cell_type": "code",
   "execution_count": 4,
   "metadata": {
    "id": "64xzjwL70q02"
   },
   "outputs": [
    {
     "name": "stdout",
     "output_type": "stream",
     "text": [
      "   messages_included  mb_per_month_included  minutes_included  \\\n",
      "0                 50                  15360               500   \n",
      "1               1000                  30720              3000   \n",
      "\n",
      "   usd_monthly_pay  usd_per_gb  usd_per_message  usd_per_minute plan_name  \n",
      "0               20          10             0.03            0.03      surf  \n",
      "1               70           7             0.01            0.01  ultimate  \n",
      "\n",
      "Index(['messages_included', 'mb_per_month_included', 'minutes_included',\n",
      "       'usd_monthly_pay', 'usd_per_gb', 'usd_per_message', 'usd_per_minute',\n",
      "       'plan_name'],\n",
      "      dtype='object')\n"
     ]
    }
   ],
   "source": [
    "# Imprime una muestra de los datos para las tarifas\n",
    "print(plans)\n",
    "print()\n",
    "print(plans.columns)"
   ]
  },
  {
   "cell_type": "markdown",
   "metadata": {
    "id": "mEc_3_hs0q02"
   },
   "source": [
    "Por el momento no cambiaria ningun dato, las unidades que manejan (mb y USD) van a ser unidades consistentes para todas las tablas."
   ]
  },
  {
   "cell_type": "markdown",
   "metadata": {
    "collapsed": false,
    "id": "R3C05i1l0q03",
    "jupyter": {
     "outputs_hidden": false
    }
   },
   "source": [
    "## Corregir datos"
   ]
  },
  {
   "cell_type": "markdown",
   "metadata": {
    "id": "bIi8StZI0q03"
   },
   "source": [
    "[Corrige los problemas obvios con los datos basándote en las observaciones iniciales.]"
   ]
  },
  {
   "cell_type": "markdown",
   "metadata": {
    "id": "Y7SVmjGn0q03"
   },
   "source": [
    "No se encontraron datos que necesiten correción."
   ]
  },
  {
   "cell_type": "markdown",
   "metadata": {
    "id": "LJir7bml0q03"
   },
   "source": [
    "## Enriquecer los datos"
   ]
  },
  {
   "cell_type": "markdown",
   "metadata": {
    "id": "eqADpCfg0q04"
   },
   "source": [
    "[Agrega factores adicionales a los datos si crees que pudieran ser útiles.]"
   ]
  },
  {
   "cell_type": "markdown",
   "metadata": {
    "id": "gfcIEuXV0q04"
   },
   "source": [
    "Los datos parecen estar completos"
   ]
  },
  {
   "cell_type": "markdown",
   "metadata": {
    "id": "1n2X6WXf0q04"
   },
   "source": [
    "## Usuarios/as"
   ]
  },
  {
   "cell_type": "code",
   "execution_count": 5,
   "metadata": {
    "id": "2NgjWFqx0q05"
   },
   "outputs": [
    {
     "name": "stdout",
     "output_type": "stream",
     "text": [
      "<class 'pandas.core.frame.DataFrame'>\n",
      "RangeIndex: 500 entries, 0 to 499\n",
      "Data columns (total 8 columns):\n",
      " #   Column      Non-Null Count  Dtype \n",
      "---  ------      --------------  ----- \n",
      " 0   user_id     500 non-null    int64 \n",
      " 1   first_name  500 non-null    object\n",
      " 2   last_name   500 non-null    object\n",
      " 3   age         500 non-null    int64 \n",
      " 4   city        500 non-null    object\n",
      " 5   reg_date    500 non-null    object\n",
      " 6   plan        500 non-null    object\n",
      " 7   churn_date  34 non-null     object\n",
      "dtypes: int64(2), object(6)\n",
      "memory usage: 31.4+ KB\n"
     ]
    }
   ],
   "source": [
    "# Imprime la información general/resumida sobre el DataFrame de usuarios\n",
    "users.info()\n"
   ]
  },
  {
   "cell_type": "code",
   "execution_count": 6,
   "metadata": {
    "id": "1IN1L9uh0q05"
   },
   "outputs": [
    {
     "name": "stdout",
     "output_type": "stream",
     "text": [
      "    user_id first_name  last_name  age  \\\n",
      "0      1000   Anamaria      Bauer   45   \n",
      "1      1001     Mickey  Wilkerson   28   \n",
      "2      1002     Carlee    Hoffman   36   \n",
      "3      1003   Reynaldo    Jenkins   52   \n",
      "4      1004    Leonila   Thompson   40   \n",
      "5      1005      Livia    Shields   31   \n",
      "6      1006     Jesusa   Bradford   73   \n",
      "7      1007    Eusebio      Welch   42   \n",
      "8      1008      Emely    Hoffman   53   \n",
      "9      1009      Gerry     Little   19   \n",
      "10     1010     Wilber      Blair   52   \n",
      "11     1011     Halina      Henry   73   \n",
      "12     1012    Jonelle    Mcbride   59   \n",
      "13     1013    Nicolas     Snider   50   \n",
      "14     1014    Edmundo      Simon   61   \n",
      "\n",
      "                                         city    reg_date      plan  \\\n",
      "0       Atlanta-Sandy Springs-Roswell, GA MSA  2018-12-24  ultimate   \n",
      "1             Seattle-Tacoma-Bellevue, WA MSA  2018-08-13      surf   \n",
      "2        Las Vegas-Henderson-Paradise, NV MSA  2018-10-21      surf   \n",
      "3                               Tulsa, OK MSA  2018-01-28      surf   \n",
      "4             Seattle-Tacoma-Bellevue, WA MSA  2018-05-23      surf   \n",
      "5         Dallas-Fort Worth-Arlington, TX MSA  2018-11-29      surf   \n",
      "6      San Francisco-Oakland-Berkeley, CA MSA  2018-11-27  ultimate   \n",
      "7               Grand Rapids-Kentwood, MI MSA  2018-07-11      surf   \n",
      "8           Orlando-Kissimmee-Sanford, FL MSA  2018-08-03  ultimate   \n",
      "9      San Jose-Sunnyvale-Santa Clara, CA MSA  2018-04-22      surf   \n",
      "10        Dallas-Fort Worth-Arlington, TX MSA  2018-03-09      surf   \n",
      "11                   Cleveland-Elyria, OH MSA  2018-01-18  ultimate   \n",
      "12     Chicago-Naperville-Elgin, IL-IN-WI MSA  2018-06-28      surf   \n",
      "13                          Knoxville, TN MSA  2018-12-01  ultimate   \n",
      "14  New York-Newark-Jersey City, NY-NJ-PA MSA  2018-11-25      surf   \n",
      "\n",
      "    churn_date  \n",
      "0          NaN  \n",
      "1          NaN  \n",
      "2          NaN  \n",
      "3          NaN  \n",
      "4          NaN  \n",
      "5          NaN  \n",
      "6   2018-12-18  \n",
      "7          NaN  \n",
      "8          NaN  \n",
      "9          NaN  \n",
      "10         NaN  \n",
      "11         NaN  \n",
      "12  2018-11-16  \n",
      "13         NaN  \n",
      "14         NaN  \n",
      "\n",
      "Index(['user_id', 'first_name', 'last_name', 'age', 'city', 'reg_date', 'plan',\n",
      "       'churn_date'],\n",
      "      dtype='object')\n",
      "\n",
      "Usuarios repetidos: 0\n"
     ]
    }
   ],
   "source": [
    "# Imprime una muestra de datos para usuarios\n",
    "print(users.head(15))\n",
    "print()\n",
    "print(users.columns)\n",
    "print()\n",
    "print('Usuarios repetidos:',users.duplicated().sum())"
   ]
  },
  {
   "cell_type": "markdown",
   "metadata": {
    "id": "dCZoUq4f0q06"
   },
   "source": [
    "Tenemos que cambiar los valores ausentes en la columns churn_date y cambiar los datos de las fecahs a datetime format"
   ]
  },
  {
   "cell_type": "markdown",
   "metadata": {
    "id": "BX5FQh_I0q06"
   },
   "source": [
    "### Corregir los datos"
   ]
  },
  {
   "cell_type": "markdown",
   "metadata": {
    "id": "8OdKMwJv0q06"
   },
   "source": [
    "[Corrige los problemas obvios con los datos basándote en las observaciones iniciales.]"
   ]
  },
  {
   "cell_type": "code",
   "execution_count": 7,
   "metadata": {
    "id": "yUqX-K0C0q07"
   },
   "outputs": [
    {
     "name": "stdout",
     "output_type": "stream",
     "text": [
      "     user_id first_name  last_name  age  \\\n",
      "415     1415    Rosette     Mendez   56   \n",
      "323     1323    Pamelia     Atkins   42   \n",
      "107     1107       Lane       Cash   61   \n",
      "76      1076      Ronny   Browning   51   \n",
      "497     1497      Donte    Barrera   49   \n",
      "354     1354     Leonel       Dyer   41   \n",
      "120     1120    Abraham  Mcconnell   33   \n",
      "374     1374      Ching      Watts   55   \n",
      "396     1396    Ardelia     Benton   65   \n",
      "493     1493     Cicely       Wynn   18   \n",
      "\n",
      "                                          city   reg_date      plan churn_date  \n",
      "415         Boston-Cambridge-Newton, MA-NH MSA 2018-02-27      surf 1970-01-01  \n",
      "323          Baltimore-Columbia-Towson, MD MSA 2018-12-30      surf 1970-01-01  \n",
      "107  New York-Newark-Jersey City, NY-NJ-PA MSA 2018-11-15  ultimate 1970-01-01  \n",
      "76                 Buffalo-Cheektowaga, NY MSA 2018-07-29      surf 1970-01-01  \n",
      "497     Los Angeles-Long Beach-Anaheim, CA MSA 2018-12-10  ultimate 1970-01-01  \n",
      "354  New York-Newark-Jersey City, NY-NJ-PA MSA 2018-08-24  ultimate 1970-01-01  \n",
      "120  New York-Newark-Jersey City, NY-NJ-PA MSA 2018-04-03      surf 1970-01-01  \n",
      "374     Louisville/Jefferson County, KY-IN MSA 2018-02-14      surf 1970-01-01  \n",
      "396                     Salt Lake City, UT MSA 2018-06-01      surf 1970-01-01  \n",
      "493         Boston-Cambridge-Newton, MA-NH MSA 2018-03-06  ultimate 1970-01-01  \n"
     ]
    }
   ],
   "source": [
    "users['churn_date'].fillna(0, inplace=True)\n",
    "users['churn_date']=pd.to_datetime(users['churn_date'],format='%Y-%m-%d',errors='coerce')\n",
    "users['churn_date'].fillna(0, inplace=True)\n",
    "def to_dt(df,column):\n",
    "    df[column]=pd.to_datetime(df[column],format='%Y-%m-%d')\n",
    "    return df[column]\n",
    "to_dt(users,'reg_date')\n",
    "print(users.sample(10))"
   ]
  },
  {
   "cell_type": "markdown",
   "metadata": {
    "id": "ycwuARJp0q07"
   },
   "source": [
    "### Enriquecer los datos"
   ]
  },
  {
   "cell_type": "markdown",
   "metadata": {
    "id": "96NIh4CJ0q08"
   },
   "source": [
    "[Agrega factores adicionales a los datos si crees que pudieran ser útiles.]"
   ]
  },
  {
   "cell_type": "markdown",
   "metadata": {
    "id": "iq0AaBS90q08"
   },
   "source": [
    "Por el momento no veo necesario agregar ningun tipo de columna o dato."
   ]
  },
  {
   "cell_type": "markdown",
   "metadata": {
    "id": "o7MeKCid0q08"
   },
   "source": [
    "## Llamadas"
   ]
  },
  {
   "cell_type": "code",
   "execution_count": 8,
   "metadata": {
    "id": "6dDlnoDm0q08"
   },
   "outputs": [
    {
     "name": "stdout",
     "output_type": "stream",
     "text": [
      "<class 'pandas.core.frame.DataFrame'>\n",
      "RangeIndex: 137735 entries, 0 to 137734\n",
      "Data columns (total 4 columns):\n",
      " #   Column     Non-Null Count   Dtype  \n",
      "---  ------     --------------   -----  \n",
      " 0   id         137735 non-null  object \n",
      " 1   user_id    137735 non-null  int64  \n",
      " 2   call_date  137735 non-null  object \n",
      " 3   duration   137735 non-null  float64\n",
      "dtypes: float64(1), int64(1), object(2)\n",
      "memory usage: 4.2+ MB\n",
      "\n",
      "Index(['id', 'user_id', 'call_date', 'duration'], dtype='object')\n",
      "\n",
      "Llamadas repetidas: 0\n"
     ]
    }
   ],
   "source": [
    "# Imprime la información general/resumida sobre el DataFrame de las llamadas\n",
    "calls.info()\n",
    "print()\n",
    "print(calls.columns)\n",
    "print()\n",
    "print('Llamadas repetidas:',calls.duplicated().sum())"
   ]
  },
  {
   "cell_type": "code",
   "execution_count": 9,
   "metadata": {
    "id": "kuh1vlNB0q09"
   },
   "outputs": [
    {
     "name": "stdout",
     "output_type": "stream",
     "text": [
      "              id  user_id   call_date  duration\n",
      "0        1000_93     1000  2018-12-27      8.52\n",
      "1       1000_145     1000  2018-12-27     13.66\n",
      "2       1000_247     1000  2018-12-27     14.48\n",
      "3       1000_309     1000  2018-12-28      5.76\n",
      "4       1000_380     1000  2018-12-30      4.22\n",
      "...          ...      ...         ...       ...\n",
      "137730  1499_199     1499  2018-11-21      8.72\n",
      "137731  1499_200     1499  2018-10-20     10.89\n",
      "137732  1499_201     1499  2018-09-21      8.12\n",
      "137733  1499_202     1499  2018-10-10      0.37\n",
      "137734  1499_203     1499  2018-12-29     13.86\n",
      "\n",
      "[137735 rows x 4 columns]\n",
      "2018-12-31\n",
      "2018-01-15\n"
     ]
    }
   ],
   "source": [
    "# Imprime una muestra de datos para las llamadas\n",
    "print(calls)\n",
    "print(calls['call_date'].max())\n",
    "print(calls['call_date'].min())\n"
   ]
  },
  {
   "attachments": {},
   "cell_type": "markdown",
   "metadata": {
    "id": "DOAxYJSx0q09"
   },
   "source": [
    "Me parece que sería mas facil tener la duración real cobrada, es decir, 4.31 --> 5\n",
    "### Corregir los datos"
   ]
  },
  {
   "cell_type": "markdown",
   "metadata": {
    "id": "YxWyAjD20q0-"
   },
   "source": [
    "[Corrige los problemas obvios con los datos basándote en las observaciones iniciales.]"
   ]
  },
  {
   "cell_type": "code",
   "execution_count": 10,
   "metadata": {
    "id": "S2r8xA4f0q0-"
   },
   "outputs": [
    {
     "name": "stdout",
     "output_type": "stream",
     "text": [
      "              id  user_id  call_date  duration\n",
      "0        1000_93     1000 2018-12-27         9\n",
      "1       1000_145     1000 2018-12-27        14\n",
      "2       1000_247     1000 2018-12-27        15\n",
      "3       1000_309     1000 2018-12-28         6\n",
      "4       1000_380     1000 2018-12-30         5\n",
      "...          ...      ...        ...       ...\n",
      "137730  1499_199     1499 2018-11-21         9\n",
      "137731  1499_200     1499 2018-10-20        11\n",
      "137732  1499_201     1499 2018-09-21         9\n",
      "137733  1499_202     1499 2018-10-10         1\n",
      "137734  1499_203     1499 2018-12-29        14\n",
      "\n",
      "[137735 rows x 4 columns]\n",
      "<class 'pandas.core.frame.DataFrame'>\n",
      "RangeIndex: 137735 entries, 0 to 137734\n",
      "Data columns (total 4 columns):\n",
      " #   Column     Non-Null Count   Dtype         \n",
      "---  ------     --------------   -----         \n",
      " 0   id         137735 non-null  object        \n",
      " 1   user_id    137735 non-null  int64         \n",
      " 2   call_date  137735 non-null  datetime64[ns]\n",
      " 3   duration   137735 non-null  int64         \n",
      "dtypes: datetime64[ns](1), int64(2), object(1)\n",
      "memory usage: 4.2+ MB\n"
     ]
    }
   ],
   "source": [
    "calls['duration']=np.ceil(calls['duration']).astype(int)\n",
    "to_dt(calls,'call_date')\n",
    "print(calls)\n",
    "calls.info()"
   ]
  },
  {
   "cell_type": "markdown",
   "metadata": {
    "id": "KrMgTrlG0q0_"
   },
   "source": [
    "### Enriquecer los datos"
   ]
  },
  {
   "cell_type": "markdown",
   "metadata": {
    "id": "a9MbmEvE0q0_"
   },
   "source": [
    "[Agrega factores adicionales a los datos si crees que pudieran ser útiles.]"
   ]
  },
  {
   "cell_type": "code",
   "execution_count": 11,
   "metadata": {
    "id": "iZ1avpA_0q0_"
   },
   "outputs": [
    {
     "name": "stdout",
     "output_type": "stream",
     "text": [
      "              id  user_id  call_date  duration  month\n",
      "0        1000_93     1000 2018-12-27         9     12\n",
      "1       1000_145     1000 2018-12-27        14     12\n",
      "2       1000_247     1000 2018-12-27        15     12\n",
      "3       1000_309     1000 2018-12-28         6     12\n",
      "4       1000_380     1000 2018-12-30         5     12\n",
      "...          ...      ...        ...       ...    ...\n",
      "137730  1499_199     1499 2018-11-21         9     11\n",
      "137731  1499_200     1499 2018-10-20        11     10\n",
      "137732  1499_201     1499 2018-09-21         9      9\n",
      "137733  1499_202     1499 2018-10-10         1     10\n",
      "137734  1499_203     1499 2018-12-29        14     12\n",
      "\n",
      "[137735 rows x 5 columns]\n"
     ]
    }
   ],
   "source": [
    "calls['month']=calls['call_date'].dt.month\n",
    "print(calls)"
   ]
  },
  {
   "cell_type": "markdown",
   "metadata": {
    "id": "mOUZSi180q0_"
   },
   "source": [
    "## Mensajes"
   ]
  },
  {
   "cell_type": "code",
   "execution_count": 12,
   "metadata": {
    "id": "R-bYJpdV0q1A"
   },
   "outputs": [
    {
     "name": "stdout",
     "output_type": "stream",
     "text": [
      "<class 'pandas.core.frame.DataFrame'>\n",
      "RangeIndex: 76051 entries, 0 to 76050\n",
      "Data columns (total 3 columns):\n",
      " #   Column        Non-Null Count  Dtype \n",
      "---  ------        --------------  ----- \n",
      " 0   id            76051 non-null  object\n",
      " 1   user_id       76051 non-null  int64 \n",
      " 2   message_date  76051 non-null  object\n",
      "dtypes: int64(1), object(2)\n",
      "memory usage: 1.7+ MB\n",
      "\n",
      "Index(['id', 'user_id', 'message_date'], dtype='object')\n",
      "\n",
      "Mensajes repetidos: 0\n"
     ]
    }
   ],
   "source": [
    "# Imprime la información general/resumida sobre el DataFrame de los mensajes\n",
    "messages.info()\n",
    "print()\n",
    "print(messages.columns)\n",
    "print()\n",
    "print('Mensajes repetidos:', messages.duplicated().sum())\n"
   ]
  },
  {
   "cell_type": "code",
   "execution_count": 13,
   "metadata": {
    "id": "mCEl2iGE0q1A"
   },
   "outputs": [
    {
     "name": "stdout",
     "output_type": "stream",
     "text": [
      "             id  user_id message_date\n",
      "0      1000_125     1000   2018-12-27\n",
      "1      1000_160     1000   2018-12-31\n",
      "2      1000_223     1000   2018-12-31\n",
      "3      1000_251     1000   2018-12-27\n",
      "4      1000_255     1000   2018-12-26\n",
      "...         ...      ...          ...\n",
      "76046  1497_526     1497   2018-12-24\n",
      "76047  1497_536     1497   2018-12-24\n",
      "76048  1497_547     1497   2018-12-31\n",
      "76049  1497_558     1497   2018-12-24\n",
      "76050  1497_613     1497   2018-12-23\n",
      "\n",
      "[76051 rows x 3 columns]\n"
     ]
    }
   ],
   "source": [
    "# Imprime una muestra de datos para los mensajes\n",
    "print(messages)\n"
   ]
  },
  {
   "attachments": {},
   "cell_type": "markdown",
   "metadata": {
    "id": "04xDj7KH0q1A"
   },
   "source": [
    "Cambiar el tipo de dato en la fecha\n",
    "\n",
    "### Corregir los datos"
   ]
  },
  {
   "cell_type": "markdown",
   "metadata": {
    "id": "eGw7d9j10q1B"
   },
   "source": [
    "[Corrige los problemas obvios con los datos basándote en las observaciones iniciales.]"
   ]
  },
  {
   "cell_type": "code",
   "execution_count": 14,
   "metadata": {
    "id": "vsllvkoa0q1B"
   },
   "outputs": [
    {
     "name": "stdout",
     "output_type": "stream",
     "text": [
      "             id  user_id message_date\n",
      "0      1000_125     1000   2018-12-27\n",
      "1      1000_160     1000   2018-12-31\n",
      "2      1000_223     1000   2018-12-31\n",
      "3      1000_251     1000   2018-12-27\n",
      "4      1000_255     1000   2018-12-26\n",
      "...         ...      ...          ...\n",
      "76046  1497_526     1497   2018-12-24\n",
      "76047  1497_536     1497   2018-12-24\n",
      "76048  1497_547     1497   2018-12-31\n",
      "76049  1497_558     1497   2018-12-24\n",
      "76050  1497_613     1497   2018-12-23\n",
      "\n",
      "[76051 rows x 3 columns]\n",
      "<class 'pandas.core.frame.DataFrame'>\n",
      "RangeIndex: 76051 entries, 0 to 76050\n",
      "Data columns (total 3 columns):\n",
      " #   Column        Non-Null Count  Dtype         \n",
      "---  ------        --------------  -----         \n",
      " 0   id            76051 non-null  object        \n",
      " 1   user_id       76051 non-null  int64         \n",
      " 2   message_date  76051 non-null  datetime64[ns]\n",
      "dtypes: datetime64[ns](1), int64(1), object(1)\n",
      "memory usage: 1.7+ MB\n"
     ]
    }
   ],
   "source": [
    "to_dt(messages,'message_date')\n",
    "print(messages)\n",
    "messages.info()"
   ]
  },
  {
   "cell_type": "markdown",
   "metadata": {
    "id": "HvLid7iD0q1B"
   },
   "source": [
    "### Enriquecer los datos"
   ]
  },
  {
   "cell_type": "markdown",
   "metadata": {
    "id": "8nhPFKIe0q1C"
   },
   "source": [
    "[Agrega factores adicionales a los datos si crees que pudieran ser útiles.]"
   ]
  },
  {
   "cell_type": "code",
   "execution_count": 15,
   "metadata": {
    "id": "zYEXZac10q1C"
   },
   "outputs": [
    {
     "name": "stdout",
     "output_type": "stream",
     "text": [
      "             id  user_id message_date  month\n",
      "0      1000_125     1000   2018-12-27     12\n",
      "1      1000_160     1000   2018-12-31     12\n",
      "2      1000_223     1000   2018-12-31     12\n",
      "3      1000_251     1000   2018-12-27     12\n",
      "4      1000_255     1000   2018-12-26     12\n",
      "...         ...      ...          ...    ...\n",
      "76046  1497_526     1497   2018-12-24     12\n",
      "76047  1497_536     1497   2018-12-24     12\n",
      "76048  1497_547     1497   2018-12-31     12\n",
      "76049  1497_558     1497   2018-12-24     12\n",
      "76050  1497_613     1497   2018-12-23     12\n",
      "\n",
      "[76051 rows x 4 columns]\n"
     ]
    }
   ],
   "source": [
    "messages['month']=messages['message_date'].dt.month\n",
    "print(messages)"
   ]
  },
  {
   "cell_type": "markdown",
   "metadata": {
    "id": "bStkaxn40q1C"
   },
   "source": [
    "## Internet"
   ]
  },
  {
   "cell_type": "code",
   "execution_count": 16,
   "metadata": {
    "id": "e-Uz5qyn0q1C"
   },
   "outputs": [
    {
     "name": "stdout",
     "output_type": "stream",
     "text": [
      "<class 'pandas.core.frame.DataFrame'>\n",
      "RangeIndex: 104825 entries, 0 to 104824\n",
      "Data columns (total 4 columns):\n",
      " #   Column        Non-Null Count   Dtype  \n",
      "---  ------        --------------   -----  \n",
      " 0   id            104825 non-null  object \n",
      " 1   user_id       104825 non-null  int64  \n",
      " 2   session_date  104825 non-null  object \n",
      " 3   mb_used       104825 non-null  float64\n",
      "dtypes: float64(1), int64(1), object(2)\n",
      "memory usage: 3.2+ MB\n",
      "\n",
      "Index(['id', 'user_id', 'session_date', 'mb_used'], dtype='object')\n",
      "\n",
      "Datos de internet repetidos 0\n"
     ]
    }
   ],
   "source": [
    "# Imprime la información general/resumida sobre el DataFrame de internet\n",
    "internet.info()\n",
    "print()\n",
    "print(internet.columns)\n",
    "print()\n",
    "print('Datos de internet repetidos', internet.duplicated().sum())\n"
   ]
  },
  {
   "cell_type": "code",
   "execution_count": 17,
   "metadata": {
    "id": "9r3x_XLw0q1C"
   },
   "outputs": [
    {
     "name": "stdout",
     "output_type": "stream",
     "text": [
      "              id  user_id session_date  mb_used\n",
      "0        1000_13     1000   2018-12-29    89.86\n",
      "1       1000_204     1000   2018-12-31     0.00\n",
      "2       1000_379     1000   2018-12-28   660.40\n",
      "3       1000_413     1000   2018-12-26   270.99\n",
      "4       1000_442     1000   2018-12-27   880.22\n",
      "...          ...      ...          ...      ...\n",
      "104820  1499_215     1499   2018-10-20   218.06\n",
      "104821  1499_216     1499   2018-12-30   304.72\n",
      "104822  1499_217     1499   2018-09-22   292.75\n",
      "104823  1499_218     1499   2018-12-07     0.00\n",
      "104824  1499_219     1499   2018-12-24   758.31\n",
      "\n",
      "[104825 rows x 4 columns]\n"
     ]
    }
   ],
   "source": [
    "# Imprime una muestra de datos para el tráfico de internet\n",
    "print(internet)\n"
   ]
  },
  {
   "cell_type": "markdown",
   "metadata": {
    "id": "EzOG5ik30q1D"
   },
   "source": [
    "Cambiar el tipo de datos de las fechas y extraer el mes."
   ]
  },
  {
   "cell_type": "markdown",
   "metadata": {
    "id": "yA0tkPFg0q1D"
   },
   "source": [
    "### Corregir los datos"
   ]
  },
  {
   "cell_type": "markdown",
   "metadata": {
    "id": "zlZMuIEK0q1D"
   },
   "source": [
    "[Corrige los problemas obvios con los datos basándote en las observaciones iniciales.]"
   ]
  },
  {
   "cell_type": "code",
   "execution_count": 18,
   "metadata": {
    "id": "zVeanzdd0q1E"
   },
   "outputs": [
    {
     "name": "stdout",
     "output_type": "stream",
     "text": [
      "<class 'pandas.core.frame.DataFrame'>\n",
      "RangeIndex: 104825 entries, 0 to 104824\n",
      "Data columns (total 4 columns):\n",
      " #   Column        Non-Null Count   Dtype         \n",
      "---  ------        --------------   -----         \n",
      " 0   id            104825 non-null  object        \n",
      " 1   user_id       104825 non-null  int64         \n",
      " 2   session_date  104825 non-null  datetime64[ns]\n",
      " 3   mb_used       104825 non-null  float64       \n",
      "dtypes: datetime64[ns](1), float64(1), int64(1), object(1)\n",
      "memory usage: 3.2+ MB\n"
     ]
    }
   ],
   "source": [
    "to_dt(internet,'session_date')\n",
    "internet.info()"
   ]
  },
  {
   "cell_type": "markdown",
   "metadata": {
    "id": "e8_mLF4a0q1E"
   },
   "source": [
    "### Enriquecer los datos"
   ]
  },
  {
   "cell_type": "markdown",
   "metadata": {
    "id": "xhNdn2tE0q1E"
   },
   "source": [
    "[Agrega factores adicionales a los datos si crees que pudieran ser útiles.]"
   ]
  },
  {
   "cell_type": "code",
   "execution_count": 19,
   "metadata": {
    "id": "ESiYPIEK0q1E"
   },
   "outputs": [
    {
     "name": "stdout",
     "output_type": "stream",
     "text": [
      "              id  user_id session_date  mb_used  month\n",
      "0        1000_13     1000   2018-12-29    89.86     12\n",
      "1       1000_204     1000   2018-12-31     0.00     12\n",
      "2       1000_379     1000   2018-12-28   660.40     12\n",
      "3       1000_413     1000   2018-12-26   270.99     12\n",
      "4       1000_442     1000   2018-12-27   880.22     12\n",
      "...          ...      ...          ...      ...    ...\n",
      "104820  1499_215     1499   2018-10-20   218.06     10\n",
      "104821  1499_216     1499   2018-12-30   304.72     12\n",
      "104822  1499_217     1499   2018-09-22   292.75      9\n",
      "104823  1499_218     1499   2018-12-07     0.00     12\n",
      "104824  1499_219     1499   2018-12-24   758.31     12\n",
      "\n",
      "[104825 rows x 5 columns]\n"
     ]
    }
   ],
   "source": [
    "internet['month']=internet['session_date'].dt.month\n",
    "print(internet)"
   ]
  },
  {
   "cell_type": "markdown",
   "metadata": {},
   "source": [
    "<div class=\"alert alert-block alert-success\">\n",
    "<b>Comentario del revisor</b> <a class=\"tocSkip\"></a><br />\n",
    "Bien hecho!<br/>\n",
    "\n",
    "Los datos fueron revisados y modificados apropiadamente, ahora se puede empezar a trabajar con ellos comodomente\n",
    "</div>\n"
   ]
  },
  {
   "cell_type": "markdown",
   "metadata": {
    "id": "3UA2cqIW0q1E"
   },
   "source": [
    "## Estudiar las condiciones de las tarifas"
   ]
  },
  {
   "cell_type": "markdown",
   "metadata": {
    "id": "T86Sqltq0q1F"
   },
   "source": [
    "[Es sumamente importante entender cómo funcionan las tarifas, cómo se les cobra a los usuarios en función de su plan de suscripción. Así que te sugerimos imprimir la información de la tarifa para ver una vez más sus condiciones.]"
   ]
  },
  {
   "cell_type": "code",
   "execution_count": 20,
   "metadata": {
    "id": "i409op8p0q1F"
   },
   "outputs": [
    {
     "name": "stdout",
     "output_type": "stream",
     "text": [
      "   messages_included  mb_per_month_included  minutes_included  \\\n",
      "0                 50                  15360               500   \n",
      "1               1000                  30720              3000   \n",
      "\n",
      "   usd_monthly_pay  usd_per_gb  usd_per_message  usd_per_minute plan_name  \n",
      "0               20          10             0.03            0.03      surf  \n",
      "1               70           7             0.01            0.01  ultimate  \n"
     ]
    }
   ],
   "source": [
    "# Imprime las condiciones de la tarifa y asegúrate de que te quedan claras\n",
    "print(plans)\n"
   ]
  },
  {
   "cell_type": "markdown",
   "metadata": {
    "id": "hMR1tP5d0q1F"
   },
   "source": [
    "## Agregar datos por usuario\n",
    "\n",
    "[Ahora que los datos están limpios, agrega los datos por usuario y por periodo para que solo haya un registro por usuario y por periodo. Esto facilitará mucho el análisis posterior.]"
   ]
  },
  {
   "cell_type": "code",
   "execution_count": 21,
   "metadata": {
    "id": "A332cedB0q1G"
   },
   "outputs": [
    {
     "name": "stdout",
     "output_type": "stream",
     "text": [
      "         id  user_id  call_date  duration  month\n",
      "0   1000_93     1000 2018-12-27         9     12\n",
      "1  1000_145     1000 2018-12-27        14     12\n",
      "2  1000_247     1000 2018-12-27        15     12\n",
      "3  1000_309     1000 2018-12-28         6     12\n",
      "4  1000_380     1000 2018-12-30         5     12\n",
      "    user_id  month  num_calls\n",
      "0      1000     12         16\n",
      "1      1001      8         27\n",
      "2      1001      9         49\n",
      "3      1001     10         65\n",
      "4      1001     11         64\n",
      "5      1001     12         56\n",
      "6      1002     10         11\n",
      "7      1002     11         55\n",
      "8      1002     12         47\n",
      "9      1003     12        149\n",
      "10     1004      5         21\n",
      "11     1004      6         44\n",
      "12     1004      7         49\n",
      "13     1004      8         49\n",
      "14     1004      9         42\n",
      "15     1004     10         61\n",
      "16     1004     11         54\n",
      "17     1004     12         50\n",
      "18     1005     12         59\n",
      "19     1006     11          2\n"
     ]
    }
   ],
   "source": [
    "# Calcula el número de llamadas hechas por cada usuario al mes. Guarda el resultado.\n",
    "print(calls.head())\n",
    "calls_per_month = calls.groupby(['user_id', 'month']).size().reset_index(name='num_calls')\n",
    "calls_per_month = calls_per_month.sort_values(['user_id', 'month'])\n",
    "\n",
    "print(calls_per_month.head(20))\n"
   ]
  },
  {
   "cell_type": "code",
   "execution_count": 22,
   "metadata": {
    "id": "aw2cmuql0q1G"
   },
   "outputs": [
    {
     "name": "stdout",
     "output_type": "stream",
     "text": [
      "      user_id  month  total_duration\n",
      "0        1000     12             124\n",
      "1        1001      8             182\n",
      "2        1001      9             315\n",
      "3        1001     10             393\n",
      "4        1001     11             426\n",
      "...       ...    ...             ...\n",
      "2253     1498     12             339\n",
      "2254     1499      9             346\n",
      "2255     1499     10             385\n",
      "2256     1499     11             308\n",
      "2257     1499     12             496\n",
      "\n",
      "[2258 rows x 3 columns]\n"
     ]
    }
   ],
   "source": [
    "# Calcula la cantidad de minutos usados por cada usuario al mes. Guarda el resultado.\n",
    "call_duration_month = calls.groupby(['user_id', 'month'])['duration'].sum().reset_index(name='total_duration')\n",
    "call_duration_month = call_duration_month.sort_values(['user_id', 'month'])\n",
    "print(call_duration_month)"
   ]
  },
  {
   "cell_type": "code",
   "execution_count": 23,
   "metadata": {
    "id": "CcQvNHn60q1G"
   },
   "outputs": [
    {
     "name": "stdout",
     "output_type": "stream",
     "text": [
      "         id  user_id message_date  month\n",
      "0  1000_125     1000   2018-12-27     12\n",
      "1  1000_160     1000   2018-12-31     12\n",
      "2  1000_223     1000   2018-12-31     12\n",
      "3  1000_251     1000   2018-12-27     12\n",
      "4  1000_255     1000   2018-12-26     12\n",
      "      user_id  month  num_messages\n",
      "0        1000     12            11\n",
      "1        1001      8            30\n",
      "2        1001      9            44\n",
      "3        1001     10            53\n",
      "4        1001     11            36\n",
      "...       ...    ...           ...\n",
      "1801     1496      9            21\n",
      "1802     1496     10            18\n",
      "1803     1496     11            13\n",
      "1804     1496     12            11\n",
      "1805     1497     12            50\n",
      "\n",
      "[1806 rows x 3 columns]\n"
     ]
    }
   ],
   "source": [
    "# Calcula el número de mensajes enviados por cada usuario al mes. Guarda el resultado.\n",
    "print(messages.head())\n",
    "messages_per_month=messages.groupby(['user_id','month']).size().reset_index(name='num_messages')\n",
    "messages_per_month=messages_per_month.sort_values(['user_id','month'])\n",
    "\n",
    "\n",
    "print(messages_per_month)\n"
   ]
  },
  {
   "cell_type": "code",
   "execution_count": 24,
   "metadata": {
    "id": "H1AqN2eG0q1H"
   },
   "outputs": [
    {
     "name": "stdout",
     "output_type": "stream",
     "text": [
      "              id  user_id session_date  mb_used  month\n",
      "0        1000_13     1000   2018-12-29    89.86     12\n",
      "1       1000_204     1000   2018-12-31     0.00     12\n",
      "2       1000_379     1000   2018-12-28   660.40     12\n",
      "3       1000_413     1000   2018-12-26   270.99     12\n",
      "4       1000_442     1000   2018-12-27   880.22     12\n",
      "...          ...      ...          ...      ...    ...\n",
      "104820  1499_215     1499   2018-10-20   218.06     10\n",
      "104821  1499_216     1499   2018-12-30   304.72     12\n",
      "104822  1499_217     1499   2018-09-22   292.75      9\n",
      "104823  1499_218     1499   2018-12-07     0.00     12\n",
      "104824  1499_219     1499   2018-12-24   758.31     12\n",
      "\n",
      "[104825 rows x 5 columns]\n",
      "      user_id  month  total_usage\n",
      "0        1000     12      1901.47\n",
      "1        1001      8      6919.15\n",
      "2        1001      9     13314.82\n",
      "3        1001     10     22330.49\n",
      "4        1001     11     18504.30\n",
      "...       ...    ...          ...\n",
      "2272     1498     12     23137.69\n",
      "2273     1499      9     12984.76\n",
      "2274     1499     10     19492.43\n",
      "2275     1499     11     16813.83\n",
      "2276     1499     12     22059.21\n",
      "\n",
      "[2277 rows x 3 columns]\n"
     ]
    }
   ],
   "source": [
    "# Calcula el volumen del tráfico de Internet usado por cada usuario al mes. Guarda el resultado.\n",
    "print(internet)\n",
    "session_duration_month = internet.groupby(['user_id', 'month'])['mb_used'].sum().reset_index(name='total_usage')\n",
    "session_duration_month = session_duration_month.sort_values(['user_id', 'month'])\n",
    "print(session_duration_month)\n"
   ]
  },
  {
   "cell_type": "markdown",
   "metadata": {
    "id": "VDfYXnj80q1H"
   },
   "source": [
    "[Junta los datos agregados en un DataFrame para que haya un registro que represente lo que consumió un usuario único en un mes determinado.]"
   ]
  },
  {
   "cell_type": "code",
   "execution_count": 25,
   "metadata": {
    "id": "FW99ykyf0q1H"
   },
   "outputs": [
    {
     "name": "stdout",
     "output_type": "stream",
     "text": [
      "La columna user_id tiene 0 valores vacios\n",
      "La columna month tiene 0 valores vacios\n",
      "La columna call_minutes tiene 0 valores vacios\n",
      "La columna messages_count tiene 0 valores vacios\n",
      "La columna mb_usage tiene 0 valores vacios\n",
      "\n",
      "\n",
      "Hay 0 valores repetidos\n",
      "\n",
      "\n",
      "      user_id  month  call_minutes  messages_count  mb_usage\n",
      "0        1000     12           124            11.0   1901.47\n",
      "1        1001      8           182            30.0   6919.15\n",
      "2        1001      9           315            44.0  13314.82\n",
      "3        1001     10           393            53.0  22330.49\n",
      "4        1001     11           426            36.0  18504.30\n",
      "...       ...    ...           ...             ...       ...\n",
      "2253     1498     12           339             0.0  23137.69\n",
      "2254     1499      9           346             0.0  12984.76\n",
      "2255     1499     10           385             0.0  19492.43\n",
      "2256     1499     11           308             0.0  16813.83\n",
      "2257     1499     12           496             0.0  22059.21\n",
      "\n",
      "[2258 rows x 5 columns]\n",
      "Index(['user_id', 'month', 'call_minutes', 'messages_count', 'mb_usage'], dtype='object')\n"
     ]
    }
   ],
   "source": [
    "# Fusiona los datos de llamadas, minutos, mensajes e Internet con base en user_id y month\n",
    "\n",
    "usage_per_user=pd.merge(call_duration_month[['user_id','month','total_duration']],\n",
    "                        messages_per_month[['user_id','num_messages','month']],\n",
    "                        on=['user_id','month'],\n",
    "                        how='left')\n",
    "usage_per_user=pd.merge(usage_per_user[['user_id','month','total_duration','num_messages']],\n",
    "                        session_duration_month[['user_id','month','total_usage']],\n",
    "                        on=['user_id','month'],\n",
    "                        how='left')\n",
    "new_names={\n",
    "    'total_duration' : 'call_minutes',\n",
    "    'num_messages' : 'messages_count',\n",
    "    'total_usage' : 'mb_usage'\n",
    "}\n",
    "usage_per_user=usage_per_user.rename(columns=new_names)\n",
    "\n",
    "usage_per_user['messages_count'].fillna(0,inplace=True)\n",
    "usage_per_user['mb_usage'].fillna(0,inplace=True)\n",
    "for column in usage_per_user.columns:\n",
    "    print(f'La columna {column} tiene',usage_per_user[column].isna().sum(),'valores vacios')\n",
    "print()\n",
    "print()\n",
    "print('Hay',usage_per_user.duplicated().sum(),'valores repetidos')\n",
    "print()\n",
    "print()\n",
    "print(usage_per_user)\n",
    "print(usage_per_user.columns)"
   ]
  },
  {
   "cell_type": "code",
   "execution_count": 26,
   "metadata": {
    "id": "0dNOXHag0q1H"
   },
   "outputs": [
    {
     "name": "stdout",
     "output_type": "stream",
     "text": [
      "      user_id  month  call_minutes  messages_count  mb_usage      plan\n",
      "0        1000     12           124            11.0   1901.47  ultimate\n",
      "1        1001      8           182            30.0   6919.15      surf\n",
      "2        1001      9           315            44.0  13314.82      surf\n",
      "3        1001     10           393            53.0  22330.49      surf\n",
      "4        1001     11           426            36.0  18504.30      surf\n",
      "...       ...    ...           ...             ...       ...       ...\n",
      "2253     1498     12           339             0.0  23137.69      surf\n",
      "2254     1499      9           346             0.0  12984.76      surf\n",
      "2255     1499     10           385             0.0  19492.43      surf\n",
      "2256     1499     11           308             0.0  16813.83      surf\n",
      "2257     1499     12           496             0.0  22059.21      surf\n",
      "\n",
      "[2258 rows x 6 columns]\n"
     ]
    }
   ],
   "source": [
    "# Añade la información de la tarifa\n",
    "usage_per_user=pd.merge(usage_per_user[['user_id', 'month', 'call_minutes', 'messages_count', 'mb_usage']],\n",
    "                       users[['user_id','plan']],\n",
    "                       on='user_id',\n",
    "                       how='left')\n",
    "print(usage_per_user)"
   ]
  },
  {
   "cell_type": "markdown",
   "metadata": {
    "id": "1IwGo4wg0q1I"
   },
   "source": [
    "[Calcula los ingresos mensuales por usuario (resta el límite del paquete gratuito del número total de llamadas, mensajes de texto y datos; multiplica el resultado por el valor del plan de llamadas; añade la tarifa mensual en función del plan de llamadas). Nota: Dadas las condiciones del plan, ¡esto podría no ser tan trivial como un par de líneas! Así que no pasa nada si dedicas algo de tiempo a ello.]"
   ]
  },
  {
   "cell_type": "code",
   "execution_count": 27,
   "metadata": {
    "id": "5FGCf_c60q1I"
   },
   "outputs": [
    {
     "name": "stdout",
     "output_type": "stream",
     "text": [
      "   messages_included  mb_per_month_included  minutes_included  \\\n",
      "0                 50                  15360               500   \n",
      "1               1000                  30720              3000   \n",
      "\n",
      "   usd_monthly_pay  usd_per_gb  usd_per_message  usd_per_minute plan_name  \n",
      "0               20          10             0.03            0.03      surf  \n",
      "1               70           7             0.01            0.01  ultimate  \n",
      "<class 'pandas.core.frame.DataFrame'>\n",
      "Int64Index: 2258 entries, 0 to 2257\n",
      "Data columns (total 6 columns):\n",
      " #   Column          Non-Null Count  Dtype  \n",
      "---  ------          --------------  -----  \n",
      " 0   user_id         2258 non-null   int64  \n",
      " 1   month           2258 non-null   int64  \n",
      " 2   call_minutes    2258 non-null   int64  \n",
      " 3   messages_count  2258 non-null   float64\n",
      " 4   mb_usage        2258 non-null   float64\n",
      " 5   plan            2258 non-null   object \n",
      "dtypes: float64(2), int64(3), object(1)\n",
      "memory usage: 123.5+ KB\n",
      "      user_id  month  call_minutes  messages_count  mb_usage      plan  \\\n",
      "0        1000     12           124            11.0   1901.47  ultimate   \n",
      "1        1001      8           182            30.0   6919.15      surf   \n",
      "2        1001      9           315            44.0  13314.82      surf   \n",
      "3        1001     10           393            53.0  22330.49      surf   \n",
      "4        1001     11           426            36.0  18504.30      surf   \n",
      "...       ...    ...           ...             ...       ...       ...   \n",
      "2253     1498     12           339             0.0  23137.69      surf   \n",
      "2254     1499      9           346             0.0  12984.76      surf   \n",
      "2255     1499     10           385             0.0  19492.43      surf   \n",
      "2256     1499     11           308             0.0  16813.83      surf   \n",
      "2257     1499     12           496             0.0  22059.21      surf   \n",
      "\n",
      "      month_income  \n",
      "0            70.00  \n",
      "1            20.00  \n",
      "2            20.00  \n",
      "3            90.09  \n",
      "4            60.00  \n",
      "...            ...  \n",
      "2253        100.00  \n",
      "2254         20.00  \n",
      "2255         70.00  \n",
      "2256         40.00  \n",
      "2257         90.00  \n",
      "\n",
      "[2258 rows x 7 columns]\n"
     ]
    }
   ],
   "source": [
    "# Calcula el ingreso mensual para cada usuario\n",
    "print(plans)\n",
    "import math\n",
    "usage_per_user.info()\n",
    "usage_per_user['month_income']=0\n",
    "usage_per_user['month_income'] = usage_per_user['month_income'].astype(float)\n",
    "for index, row in usage_per_user.iterrows():\n",
    "    calls = row['call_minutes']\n",
    "    messages = row['messages_count']\n",
    "    mb = row['mb_usage']\n",
    "    plan = row['plan']\n",
    "    \n",
    "    if plan == 'surf':\n",
    "        income = 20\n",
    "        if calls > 500:\n",
    "            call_extra = (calls - 500) * 0.03\n",
    "            income += call_extra\n",
    "        if messages > 50:\n",
    "            message_extra = (messages - 50) * 0.03\n",
    "            income += message_extra\n",
    "        if mb > 15360:\n",
    "            mb_extra = math.ceil((mb - 15360) / 1024) * 10\n",
    "            income += mb_extra\n",
    "        usage_per_user.at[index, 'month_income'] = income\n",
    "            \n",
    "    else: \n",
    "        income = 70\n",
    "        if calls > 3000:\n",
    "            call_extra = (calls - 3000) * 0.01\n",
    "            income += call_extra\n",
    "        if messages > 1000:\n",
    "            message_extra = (messages - 1000) * 0.01  \n",
    "            income += message_extra\n",
    "        if mb > 30720:\n",
    "            mb_extra = math.ceil((mb - 30720) / 1024) * 7\n",
    "            income += mb_extra\n",
    "        usage_per_user.at[index, 'month_income'] = income\n",
    "print(usage_per_user) \n",
    "\n",
    "\n",
    "\n"
   ]
  },
  {
   "cell_type": "markdown",
   "metadata": {},
   "source": [
    "<div class=\"alert alert-block alert-success\">\n",
    "<b>Comentario del revisor</b> <a class=\"tocSkip\"></a><br />\n",
    "\n",
    "Buena manera de agregar los datos por usuario, ahora tenemos columnas extras que nos ayudarán con el analisis posterior\n",
    "</div>\n"
   ]
  },
  {
   "cell_type": "markdown",
   "metadata": {
    "id": "-jtyHzJb0q1I"
   },
   "source": [
    "## Estudia el comportamiento de usuario"
   ]
  },
  {
   "cell_type": "markdown",
   "metadata": {
    "id": "AxU3Y0N70q1J"
   },
   "source": [
    "[Calcula algunas estadísticas descriptivas para los datos agregados y fusionados que nos sean útiles y que muestren un panorama general captado por los datos. Dibuja gráficos útiles para facilitar la comprensión. Dado que la tarea principal es comparar las tarifas y decidir cuál es más rentable, las estadísticas y gráficas deben calcularse por tarifa.]\n",
    "\n",
    "[En los comentarios hallarás pistas relevantes para las llamadas, pero no las hay para los mensajes e Internet. Sin embargo, el principio del estudio estadístico que se aplica para ellos es el mismo que para las llamadas.]"
   ]
  },
  {
   "cell_type": "markdown",
   "metadata": {
    "id": "vtW4CJEe0q1J"
   },
   "source": [
    "### Llamadas"
   ]
  },
  {
   "cell_type": "code",
   "execution_count": 28,
   "metadata": {
    "id": "Jf5v5--k0q1J"
   },
   "outputs": [
    {
     "name": "stdout",
     "output_type": "stream",
     "text": [
      "    month  duration_surf  duration_ultimate\n",
      "0       1     203.000000         193.500000\n",
      "1       2     297.000000         470.333333\n",
      "2       3     330.000000         304.250000\n",
      "3       4     351.540000         336.857143\n",
      "4       5     410.240000         406.241379\n",
      "5       6     435.791667         387.444444\n",
      "6       7     453.733333         427.067797\n",
      "7       8     417.849057         421.436620\n",
      "8       9     420.732984         437.511628\n",
      "9      10     438.991379         455.028571\n",
      "10     11     432.494585         448.730159\n",
      "11     12     484.501608         465.261745\n"
     ]
    },
    {
     "data": {
      "image/png": "[encoded data removed]",
      "text/plain": [
       "<Figure size 640x480 with 1 Axes>"
      ]
     },
     "metadata": {},
     "output_type": "display_data"
    }
   ],
   "source": [
    "# Compara la duración promedio de llamadas por cada plan y por cada mes. Traza un gráfico de barras para visualizarla.\n",
    "import matplotlib.pyplot as plt\n",
    "calls_surf_month= usage_per_user[usage_per_user['plan']=='surf'][['month','call_minutes']]\n",
    "calls_ultimate_month=usage_per_user[usage_per_user['plan']=='ultimate'][['month','call_minutes']]\n",
    "calls_surf_month_mean=calls_surf_month.groupby('month')['call_minutes'].mean().reset_index(name='duration_surf')\n",
    "calls_ultimate_month_mean=calls_ultimate_month.groupby('month')['call_minutes'].mean().reset_index(name='duration_ultimate')\n",
    "comparison_minutes_mean=pd.merge(calls_surf_month_mean[['month','duration_surf']],\n",
    "                                 calls_ultimate_month_mean[['month','duration_ultimate']],\n",
    "                                 on='month',\n",
    "                                 how='left')\n",
    "print(comparison_minutes_mean)\n",
    "\n",
    "comparison_minutes_mean.plot(x='month',\n",
    "                           y=['duration_surf','duration_ultimate'],\n",
    "                           title='Media minutos en llamada por mes',\n",
    "                           xlabel='Mes',\n",
    "                           ylabel='Media de los minutos',\n",
    "                           kind='bar',\n",
    "                          alpha=0.5)\n",
    "\n",
    "plt.legend(['Surf','Ultimate'])\n",
    "plt.show()\n",
    "\n",
    "\n"
   ]
  },
  {
   "cell_type": "markdown",
   "metadata": {},
   "source": [
    "<div class=\"alert alert-block alert-success\">\n",
    "<b>Comentario del revisor</b> <a class=\"tocSkip\"></a><br />\n",
    "Correcto!<br/>\n",
    "\n",
    "Buena manera de mostrar los datos, se puede ver claramente las tendencias de cada uno de los planes\n",
    "</div>\n"
   ]
  },
  {
   "cell_type": "code",
   "execution_count": 32,
   "metadata": {
    "id": "QoLqW1S_0q1J"
   },
   "outputs": [
    {
     "data": {
      "image/png": "[encoded data removed]",
      "text/plain": [
       "<Figure size 1000x600 with 1 Axes>"
      ]
     },
     "metadata": {},
     "output_type": "display_data"
    }
   ],
   "source": [
    "# Compara el número de minutos mensuales que necesitan los usuarios de cada plan. Traza un histograma.\n",
    "import matplotlib.pyplot as plt\n",
    "surf_minutes = usage_per_user[usage_per_user['plan'] == 'surf']['call_minutes']\n",
    "ultimate_minutes = usage_per_user[usage_per_user['plan'] == 'ultimate']['call_minutes']\n",
    "plt.figure(figsize=(10, 6))\n",
    "plt.hist(\n",
    "    surf_minutes,\n",
    "    bins=50,  \n",
    "    alpha=0.5,  \n",
    "    label='Plan Surf',\n",
    "    color='blue'\n",
    ")\n",
    "\n",
    "plt.hist(\n",
    "    ultimate_minutes,\n",
    "    bins=50,\n",
    "    alpha=0.5,\n",
    "    label='Plan Ultimate',\n",
    "    color='orange'\n",
    ")\n",
    "\n",
    "plt.title('Distribución de Minutos Mensuales por Plan')\n",
    "plt.xlabel('Minutos de Llamada')\n",
    "plt.ylabel('Número de Usuarios')\n",
    "plt.legend()  \n",
    "plt.grid(True, linestyle='--', alpha=0.7)\n",
    "plt.xticks(ticks=range(0, 1600, 50))\n",
    "plt.xticks(rotation=45)\n",
    "\n",
    "\n",
    "\n",
    "plt.show()\n"
   ]
  },
  {
   "cell_type": "markdown",
   "metadata": {
    "id": "bLS9T8OH0q1K"
   },
   "source": [
    "[Calcula la media y la variable de la duración de las llamadas para averiguar si los usuarios de los distintos planes se comportan de forma diferente al realizar sus llamadas.]"
   ]
  },
  {
   "cell_type": "code",
   "execution_count": 30,
   "metadata": {
    "id": "oSndbAnt0q1K"
   },
   "outputs": [
    {
     "name": "stdout",
     "output_type": "stream",
     "text": [
      "                mean           var\n",
      "plan                              \n",
      "surf      436.519741  52571.063243\n",
      "ultimate  434.676017  56573.632247\n"
     ]
    }
   ],
   "source": [
    "# Calcula la media y la varianza de la duración mensual de llamadas.\n",
    "stats_per_plan= usage_per_user.groupby('plan')['call_minutes'].agg(['mean', 'var'])\n",
    "print(stats_per_plan)\n"
   ]
  },
  {
   "cell_type": "code",
   "execution_count": 31,
   "metadata": {
    "id": "nZzoRUKc0q1K"
   },
   "outputs": [
    {
     "data": {
      "image/png": "[encoded data removed]",
      "text/plain": [
       "<Figure size 1000x600 with 1 Axes>"
      ]
     },
     "metadata": {},
     "output_type": "display_data"
    }
   ],
   "source": [
    "# Traza un diagrama de caja para visualizar la distribución de la duración mensual de llamadas\n",
    "import seaborn as sns\n",
    "plt.figure(figsize=(10, 6))\n",
    "ax = sns.boxplot(\n",
    "    x='plan',\n",
    "    y='call_minutes',\n",
    "    data=usage_per_user,\n",
    "    palette={'surf': '#1f77b4', 'ultimate': '#ff7f0e'}, \n",
    "    width=0.4,\n",
    "    linewidth=1.5,\n",
    "    fliersize=4\n",
    ")\n",
    "plt.title('Distribución de Minutos de Llamada Mensual por Plan')\n",
    "plt.xlabel('Plan')\n",
    "plt.ylabel('Minutos de Llamada')\n",
    "plt.tight_layout()\n",
    "plt.show()"
   ]
  },
  {
   "cell_type": "markdown",
   "metadata": {
    "id": "r627zBO50q1K"
   },
   "source": [
    "[Elabora las conclusiones sobre el comportamiento de los usuarios con respecto a las llamadas. ¿Su comportamiento varía en función del plan?]"
   ]
  },
  {
   "cell_type": "markdown",
   "metadata": {},
   "source": [
    "<div class=\"alert alert-block alert-success\">\n",
    "<b>Comentario del revisor</b> <a class=\"tocSkip\"></a><br />\n",
    "Bien hecho!<br/>\n",
    "\n",
    "Los diagramas de caja nos permiten ver la distribución de ambos conjuntos de datos de una manera clara\n",
    "\n",
    "</div>\n"
   ]
  },
  {
   "cell_type": "markdown",
   "metadata": {
    "id": "8idKy8Wh0q1L"
   },
   "source": [
    "### Mensajes"
   ]
  },
  {
   "cell_type": "code",
   "execution_count": 33,
   "metadata": {
    "id": "NXLxiTit0q1L"
   },
   "outputs": [
    {
     "data": {
      "image/png": "[encoded data removed]",
      "text/plain": [
       "<Figure size 1000x600 with 1 Axes>"
      ]
     },
     "metadata": {},
     "output_type": "display_data"
    }
   ],
   "source": [
    "# Comprara el número de mensajes que tienden a enviar cada mes los usuarios de cada plan\n",
    "\n",
    "surf_messages = usage_per_user[usage_per_user['plan'] == 'surf']['messages_count']\n",
    "ultimate_messages = usage_per_user[usage_per_user['plan'] == 'ultimate']['messages_count']\n",
    "plt.figure(figsize=(10, 6))\n",
    "plt.hist(\n",
    "    surf_messages,\n",
    "    bins=50,  \n",
    "    alpha=0.5,  \n",
    "    label='Plan Surf',\n",
    "    color='blue'\n",
    ")\n",
    "\n",
    "plt.hist(\n",
    "    ultimate_messages,\n",
    "    bins=50,\n",
    "    alpha=0.5,\n",
    "    label='Plan Ultimate',\n",
    "    color='orange'\n",
    ")\n",
    "\n",
    "plt.title('Distribución de Mensajes Mensuales por Plan')\n",
    "plt.xlabel('Número de mensajes')\n",
    "plt.ylabel('Número de Usuarios')\n",
    "plt.legend()  \n",
    "plt.grid(True, linestyle='--', alpha=0.7)\n",
    "plt.xticks(ticks=range(0, 300, 50))\n",
    "plt.xticks(rotation=45)\n",
    "\n",
    "\n",
    "\n",
    "plt.show()\n",
    "\n"
   ]
  },
  {
   "cell_type": "markdown",
   "metadata": {},
   "source": [
    "<div class=\"alert alert-block alert-success\">\n",
    "<b>Comentario del revisor</b> <a class=\"tocSkip\"></a><br />\n",
    "Correcto!\n",
    "\n",
    "Buena manera de mostrar los resultados de los mensajes, se puede ver como en un plan se utilizan más que en el otro\n",
    "</div>\n"
   ]
  },
  {
   "cell_type": "code",
   "execution_count": 34,
   "metadata": {
    "id": "GRI_R7xF0q1L"
   },
   "outputs": [
    {
     "data": {
      "image/png": "[encoded data removed]",
      "text/plain": [
       "<Figure size 1000x600 with 1 Axes>"
      ]
     },
     "metadata": {},
     "output_type": "display_data"
    }
   ],
   "source": [
    "# Compara la cantidad de tráfico de Internet consumido por usuarios por plan\n",
    "surf_mb = usage_per_user[usage_per_user['plan'] == 'surf']['mb_usage']\n",
    "ultimate_mb = usage_per_user[usage_per_user['plan'] == 'ultimate']['mb_usage']\n",
    "plt.figure(figsize=(10, 6))\n",
    "plt.hist(\n",
    "    surf_mb,\n",
    "    bins=50,  \n",
    "    alpha=0.5,  \n",
    "    label='Plan Surf',\n",
    "    color='blue'\n",
    ")\n",
    "\n",
    "plt.hist(\n",
    "    ultimate_mb,\n",
    "    bins=50,\n",
    "    alpha=0.5,\n",
    "    label='Plan Ultimate',\n",
    "    color='orange'\n",
    ")\n",
    "\n",
    "plt.title('Distribución de Uso de internet Mensual por Plan')\n",
    "plt.xlabel('Uso de internet')\n",
    "plt.ylabel('Número de Usuarios')\n",
    "plt.legend()  \n",
    "plt.grid(True, linestyle='--', alpha=0.7)\n",
    "plt.xticks(ticks=range(0, 80000, 2000))\n",
    "plt.xticks(rotation=45)\n",
    "plt.show()"
   ]
  },
  {
   "cell_type": "code",
   "execution_count": 35,
   "metadata": {
    "id": "dtFwCGAp0q1M"
   },
   "outputs": [
    {
     "name": "stdout",
     "output_type": "stream",
     "text": [
      "Hay 1545 usarios con plan Surf\n",
      "Hay 713 usarios con plan Ultimate\n"
     ]
    }
   ],
   "source": [
    "print('Hay',usage_per_user[usage_per_user['plan']=='surf']['user_id'].count(),'usarios con plan Surf')\n",
    "print('Hay',usage_per_user[usage_per_user['plan']=='ultimate']['user_id'].count(),'usarios con plan Ultimate')\n"
   ]
  },
  {
   "cell_type": "markdown",
   "metadata": {
    "id": "390SSL480q1M"
   },
   "source": [
    "[Elabora las conclusiones sobre el comportamiento de los usuarios con respecto a los mensajes. ¿Su comportamiento varía en función del plan?]"
   ]
  },
  {
   "cell_type": "markdown",
   "metadata": {
    "id": "42YSypXz0q1M"
   },
   "source": [
    "### Internet"
   ]
  },
  {
   "cell_type": "markdown",
   "metadata": {
    "id": "lSuKPtjh0q1M"
   },
   "source": [
    "Podemos observar que la media de los usuarios, tanto para el plan surf como par ultimate, se situa alrededor de 16,000 mb usados por mes."
   ]
  },
  {
   "cell_type": "markdown",
   "metadata": {
    "id": "wnh8jYXi0q1N"
   },
   "source": [
    "El plan Surf parece estar diseñado para que en la media de los casos se quede un poco abajo del uso mensual."
   ]
  },
  {
   "cell_type": "markdown",
   "metadata": {
    "id": "5VlyJ9ry0q1N"
   },
   "source": [
    "La distribución de usuarios para ambos planes se comporta de forma muy similar."
   ]
  },
  {
   "cell_type": "markdown",
   "metadata": {
    "id": "UN9zwuMP0q1N"
   },
   "source": [
    "[Elabora las conclusiones sobre cómo los usuarios tienden a consumir el tráfico de Internet. ¿Su comportamiento varía en función del plan?]"
   ]
  },
  {
   "cell_type": "markdown",
   "metadata": {},
   "source": [
    "<div class=\"alert alert-block alert-warning\">\n",
    "<b>Comentario del revisor</b> <a class=\"tocSkip\"></a><br />\n",
    "Cuidado!\n",
    "\n",
    "Debemos mantener un orden en el proyecto, la grafica sobre el consumo de datos debería estar en esta parte y no en la parte anterior\n",
    "</div>\n"
   ]
  },
  {
   "cell_type": "markdown",
   "metadata": {
    "id": "tCijq3260q1N"
   },
   "source": [
    "## Ingreso"
   ]
  },
  {
   "cell_type": "markdown",
   "metadata": {
    "id": "9nq5IAcy0q1O"
   },
   "source": [
    "[Del mismo modo que has estudiado el comportamiento de los usuarios, describe estadísticamente los ingresos de los planes.]"
   ]
  },
  {
   "cell_type": "code",
   "execution_count": 36,
   "metadata": {
    "id": "tz-dq_V00q1O"
   },
   "outputs": [
    {
     "data": {
      "image/png": "[encoded data removed]",
      "text/plain": [
       "<Figure size 1000x600 with 1 Axes>"
      ]
     },
     "metadata": {},
     "output_type": "display_data"
    }
   ],
   "source": [
    "surf_income = usage_per_user[usage_per_user['plan'] == 'surf']['month_income']\n",
    "ultimate_income = usage_per_user[usage_per_user['plan'] == 'ultimate']['month_income']\n",
    "plt.figure(figsize=(10, 6))\n",
    "plt.hist(\n",
    "    surf_income,\n",
    "    bins=50,  \n",
    "    alpha=0.5,  \n",
    "    label='Plan Surf',\n",
    "    color='blue'\n",
    ")\n",
    "\n",
    "plt.hist(\n",
    "    ultimate_income,\n",
    "    bins=50,\n",
    "    alpha=0.5,\n",
    "    label='Plan Ultimate',\n",
    "    color='orange'\n",
    ")\n",
    "\n",
    "plt.title('Distribución de Pago Mensual por Plan')\n",
    "plt.xlabel('Uso de internet')\n",
    "plt.ylabel('Número de Usuarios')\n",
    "plt.legend()  \n",
    "plt.grid(True, linestyle='--', alpha=0.7)\n",
    "plt.xticks(ticks=range(0, 400, 20))\n",
    "plt.xticks(rotation=45)\n",
    "plt.show()\n",
    "\n"
   ]
  },
  {
   "cell_type": "code",
   "execution_count": 37,
   "metadata": {
    "id": "0Y1v8ZUz0q1P"
   },
   "outputs": [
    {
     "name": "stdout",
     "output_type": "stream",
     "text": [
      "El pago máximo realizado en un plan Surf es: 590.37\n",
      "El pago máximo realizado en un plan Ultimate es: 182.0\n",
      "Los usuarios con plan Surf pagan 60.125514563106805 en promedio\n",
      "Los usuarios con plan Ultimate pagan 72.27769985974754 en promedio\n"
     ]
    }
   ],
   "source": [
    "print('El pago máximo realizado en un plan Surf es:', surf_income.max())\n",
    "print('El pago máximo realizado en un plan Ultimate es:', ultimate_income.max())\n",
    "print('Los usuarios con plan Surf pagan',usage_per_user[usage_per_user['plan']=='surf']['month_income'].mean(),'en promedio')\n",
    "print('Los usuarios con plan Ultimate pagan',usage_per_user[usage_per_user['plan']=='ultimate']['month_income'].mean(),'en promedio')"
   ]
  },
  {
   "cell_type": "markdown",
   "metadata": {
    "id": "bYmwxyVh0q1P"
   },
   "source": [
    "La media del pago realizado de los usuarios con Surf está muy cercana al pago que realizan los usuarios con plan Ultimate."
   ]
  },
  {
   "cell_type": "markdown",
   "metadata": {
    "id": "KAFidcXZ0q1P"
   },
   "source": [
    "[Elabora las conclusiones sobre cómo difiere el ingreso entre los planes.]"
   ]
  },
  {
   "cell_type": "markdown",
   "metadata": {},
   "source": [
    "<div class=\"alert alert-block alert-success\">\n",
    "<b>Comentario del revisor</b> <a class=\"tocSkip\"></a><br />\n",
    "Correcto!\n",
    "\n",
    "Esta es una grafica donde podemos ver diferencias más claras entre los planes, lo que nos ayuda a tomar mejores decisiones\n",
    "</div>\n"
   ]
  },
  {
   "cell_type": "markdown",
   "metadata": {
    "id": "ajJ7VKeI0q1Q"
   },
   "source": [
    "## Prueba las hipótesis estadísticas"
   ]
  },
  {
   "cell_type": "markdown",
   "metadata": {
    "id": "AdXAZ-yL0q1Q"
   },
   "source": [
    "[Prueba la hipótesis de que son diferentes los ingresos promedio procedentes de los usuarios de los planes de llamada Ultimate y Surf.]"
   ]
  },
  {
   "cell_type": "markdown",
   "metadata": {
    "id": "IQwa_hsh0q1Q"
   },
   "source": [
    "[Elabora las hipótesis nula y alternativa, escoge la prueba estadística, determina el valor alfa.]"
   ]
  },
  {
   "cell_type": "code",
   "execution_count": 38,
   "metadata": {},
   "outputs": [
    {
     "name": "stdout",
     "output_type": "stream",
     "text": [
      "               mean          var\n",
      "plan                            \n",
      "surf      60.125515  2865.818321\n",
      "ultimate  72.277700   128.866595\n"
     ]
    }
   ],
   "source": [
    "stats_income_per_plan= usage_per_user.groupby('plan')['month_income'].agg(['mean', 'var'])\n",
    "print(stats_income_per_plan)"
   ]
  },
  {
   "cell_type": "markdown",
   "metadata": {},
   "source": [
    "H0= Los usuarios con plan Surf pagan mas que los ultimate."
   ]
  },
  {
   "cell_type": "code",
   "execution_count": 39,
   "metadata": {
    "id": "nFoPNlPq0q1R"
   },
   "outputs": [
    {
     "name": "stdout",
     "output_type": "stream",
     "text": [
      "valor p: 3.274984220789092e-13\n",
      "Rechazamos la hipótesis nula: los ingresos fueron significativamente inferiores a 70 dólares\n"
     ]
    }
   ],
   "source": [
    "# Prueba las hipótesis\n",
    "hip_nula_1=usage_per_user[usage_per_user['plan']=='surf']['month_income']\n",
    "alpha=0.05\n",
    "interested_value=70\n",
    "results = st.ttest_1samp(hip_nula_1,interested_value)\n",
    "\n",
    "print('valor p:', results.pvalue/2) \n",
    "      \n",
    "if (results.pvalue / 2 < alpha)and(hip_nula_1.mean() < interested_value):\n",
    "\n",
    "    print(\"Rechazamos la hipótesis nula: los ingresos fueron significativamente inferiores a 70 dólares\")\n",
    "else:\n",
    "    print(\n",
    "        \"No podemos rechazar la hipótesis nula: los ingresos no fueron significativamente inferiores\"\n",
    "    )\n"
   ]
  },
  {
   "cell_type": "markdown",
   "metadata": {
    "id": "tCcAruM60q1R"
   },
   "source": [
    "[Prueba la hipótesis de que el ingreso promedio de los usuarios del área NY-NJ es diferente al de los usuarios de otras regiones.]"
   ]
  },
  {
   "cell_type": "markdown",
   "metadata": {
    "id": "LsBgitqj0q1R"
   },
   "source": [
    "[Elabora las hipótesis nula y alternativa, escoge la prueba estadística, determina el valor alfa.]"
   ]
  },
  {
   "cell_type": "code",
   "execution_count": 40,
   "metadata": {
    "id": "Cqcj7wrZ0q1S"
   },
   "outputs": [
    {
     "name": "stdout",
     "output_type": "stream",
     "text": [
      "valor p: 0.013118130086619653\n",
      "No podemos rechazar la hipótesis nula\n"
     ]
    }
   ],
   "source": [
    "# Prueba las hipótesis\n",
    "users['ny_area']= 0 \n",
    "users.loc[users['city'] == 'New York-Newark-Jersey City, NY-NJ-PA MSA', 'ny_area'] = 1\n",
    "usage_per_user=pd.merge(usage_per_user[['user_id', 'month', 'call_minutes', 'messages_count', 'mb_usage','plan', 'month_income']],\n",
    "                        users[['user_id','ny_area']],\n",
    "                        on='user_id',\n",
    "                        how='left')\n",
    "\n",
    "income_ny=usage_per_user[usage_per_user['ny_area']==1]['month_income']\n",
    "income_not_ny=usage_per_user[usage_per_user['ny_area']==0]['month_income']\n",
    "\n",
    "alpha = 0.05\n",
    "\n",
    "results = st.ttest_ind(income_ny,income_not_ny,equal_var=False)\n",
    "\n",
    "print('valor p:', results.pvalue)\n",
    "\n",
    "if (results.pvalue > alpha):\n",
    "    print(\"Rechazamos la hipótesis nula\")\n",
    "else:\n",
    "    print(\"No podemos rechazar la hipótesis nula\")\n",
    "\n",
    "\n",
    "\n"
   ]
  },
  {
   "cell_type": "markdown",
   "metadata": {},
   "source": [
    "<div class=\"alert alert-block alert-success\">\n",
    "<b>Comentario del revisor</b> <a class=\"tocSkip\"></a><br />\n",
    "Bien hecho!\n",
    "\n",
    "La aplicación de las pruebas de hipotesis me parece acertada, seleccionando los datos y valores correctos\n",
    "</div>\n"
   ]
  },
  {
   "cell_type": "markdown",
   "metadata": {
    "id": "bbTR8UQO0q1T"
   },
   "source": [
    "## Conclusión general\n",
    "\n",
    "[En esta sección final, enumera tus conclusiones importantes. Asegúrate de que estas abarquen todas las decisiones (suposiciones) importantes que adoptaste y que determinaron la forma elegida para procesar y analizar los datos.]"
   ]
  },
  {
   "cell_type": "markdown",
   "metadata": {},
   "source": [
    "Los usuarios con el plan surf paga un precio apenas por debajo del utlimate."
   ]
  },
  {
   "cell_type": "markdown",
   "metadata": {},
   "source": [
    "La mayor parte de sobre cargos se da en el uso del internet."
   ]
  },
  {
   "cell_type": "markdown",
   "metadata": {},
   "source": [
    "Faltaron realizar mas análisis considerando la edad de los usuarios para tener un mejor panorma del uso de datos."
   ]
  },
  {
   "cell_type": "code",
   "execution_count": null,
   "metadata": {},
   "outputs": [],
   "source": [
    "Seccionar por ciudades podría arrojar diferentes resultados."
   ]
  },
  {
   "cell_type": "markdown",
   "metadata": {},
   "source": [
    "## Comentario general del revisor\n",
    "<div class=\"alert alert-block alert-success\">\n",
    "<b>Comentario del revisor</b> <a class=\"tocSkip\"></a><br />\n",
    "Has realizado un muy buen trabajo al desarrollar este proyecto, las observaciones que has hecho a lo largo del mismo han servido para tomar acción en los pasos posteriores, terminando en resultados positivos.\n",
    "\n",
    "Este es un proyecto que nos adentra mucho en los analisis que se hacen recurrentemente en las compañías donde se obtiene información para tomar decisiones sobre el negocio que impactan directamente los ingresos, lo has hecho bastante bien!\n",
    "\n",
    "Continúa con el buen trabajo y mucho éxito en el siguiente Sprint!    \n",
    "</div>\n"
   ]
  }
 ],
 "metadata": {
  "ExecuteTimeLog": [
   {
    "duration": 828,
    "start_time": "2021-11-16T09:21:11.304Z"
   },
   {
    "duration": 893,
    "start_time": "2021-11-16T09:21:17.728Z"
   },
   {
    "duration": 1150,
    "start_time": "2021-11-16T09:21:29.568Z"
   },
   {
    "duration": 3,
    "start_time": "2021-11-16T09:24:14.495Z"
   },
   {
    "duration": 120,
    "start_time": "2021-11-16T09:24:46.630Z"
   },
   {
    "duration": 3,
    "start_time": "2021-11-16T09:28:27.882Z"
   },
   {
    "duration": 4,
    "start_time": "2021-11-16T09:29:54.281Z"
   },
   {
    "duration": 3,
    "start_time": "2021-11-16T09:30:45.936Z"
   },
   {
    "duration": 4,
    "start_time": "2021-11-16T09:31:06.300Z"
   },
   {
    "duration": 113,
    "start_time": "2021-11-16T09:31:37.208Z"
   },
   {
    "duration": 143,
    "start_time": "2021-11-16T09:31:48.656Z"
   },
   {
    "duration": 98,
    "start_time": "2021-11-16T09:31:55.678Z"
   },
   {
    "duration": 3,
    "start_time": "2021-11-16T09:32:08.535Z"
   },
   {
    "duration": 111,
    "start_time": "2021-11-16T09:32:10.120Z"
   },
   {
    "duration": 3,
    "start_time": "2021-11-16T09:32:15.732Z"
   },
   {
    "duration": 4,
    "start_time": "2021-11-16T09:32:29.423Z"
   },
   {
    "duration": 3,
    "start_time": "2021-11-16T10:03:03.074Z"
   },
   {
    "duration": 3,
    "start_time": "2021-11-16T10:10:01.288Z"
   },
   {
    "duration": 3,
    "start_time": "2021-11-16T10:10:46.923Z"
   },
   {
    "duration": 121,
    "start_time": "2021-11-16T10:37:46.494Z"
   },
   {
    "duration": 125,
    "start_time": "2021-11-16T10:38:20.632Z"
   },
   {
    "duration": 112,
    "start_time": "2021-11-16T10:46:53.001Z"
   },
   {
    "duration": 110,
    "start_time": "2021-11-16T10:48:25.775Z"
   },
   {
    "duration": 3,
    "start_time": "2021-11-16T10:50:18.720Z"
   },
   {
    "duration": 4,
    "start_time": "2021-11-16T10:50:37.649Z"
   },
   {
    "duration": 2,
    "start_time": "2021-11-16T10:50:51.884Z"
   },
   {
    "duration": 3,
    "start_time": "2021-11-16T10:51:56.237Z"
   },
   {
    "duration": 101,
    "start_time": "2021-11-16T10:53:13.791Z"
   },
   {
    "duration": 3,
    "start_time": "2021-11-16T10:55:59.186Z"
   },
   {
    "duration": 3,
    "start_time": "2021-11-16T10:56:10.751Z"
   },
   {
    "duration": 3,
    "start_time": "2021-11-16T10:56:49.038Z"
   },
   {
    "duration": 3,
    "start_time": "2021-11-16T10:56:49.174Z"
   },
   {
    "duration": 4,
    "start_time": "2021-11-16T10:56:49.414Z"
   },
   {
    "duration": 3,
    "start_time": "2021-11-16T10:56:49.680Z"
   },
   {
    "duration": 3,
    "start_time": "2021-11-16T10:56:50.370Z"
   },
   {
    "duration": 114,
    "start_time": "2021-11-16T10:59:34.518Z"
   },
   {
    "duration": 3,
    "start_time": "2021-11-16T11:01:41.201Z"
   },
   {
    "duration": 116,
    "start_time": "2021-11-16T11:01:48.754Z"
   },
   {
    "duration": 3,
    "start_time": "2021-11-16T11:02:16.685Z"
   },
   {
    "duration": 3,
    "start_time": "2021-11-16T11:02:19.479Z"
   },
   {
    "duration": 3,
    "start_time": "2021-11-16T11:02:47.067Z"
   },
   {
    "duration": 3,
    "start_time": "2021-11-16T11:02:49.353Z"
   },
   {
    "duration": 3,
    "start_time": "2021-11-16T11:03:07.835Z"
   },
   {
    "duration": 3,
    "start_time": "2021-11-16T11:03:07.953Z"
   },
   {
    "duration": 112,
    "start_time": "2021-11-16T11:07:52.072Z"
   },
   {
    "duration": 187,
    "start_time": "2021-11-16T11:09:23.468Z"
   },
   {
    "duration": 4,
    "start_time": "2021-11-16T11:10:01.455Z"
   },
   {
    "duration": 3,
    "start_time": "2021-11-16T11:10:05.069Z"
   },
   {
    "duration": 4,
    "start_time": "2021-11-16T11:10:13.376Z"
   },
   {
    "duration": 3,
    "start_time": "2021-11-16T11:10:14.434Z"
   },
   {
    "duration": 3,
    "start_time": "2021-11-16T11:10:22.853Z"
   },
   {
    "duration": 4,
    "start_time": "2021-11-16T11:27:29.279Z"
   },
   {
    "duration": 4,
    "start_time": "2021-11-16T11:29:08.919Z"
   },
   {
    "duration": 118,
    "start_time": "2021-11-16T11:29:46.703Z"
   },
   {
    "duration": 437,
    "start_time": "2021-11-16T11:36:02.181Z"
   },
   {
    "duration": 157,
    "start_time": "2021-11-16T11:36:14.388Z"
   },
   {
    "duration": 207,
    "start_time": "2021-11-16T11:47:15.898Z"
   },
   {
    "duration": 3,
    "start_time": "2021-11-16T11:53:52.092Z"
   },
   {
    "duration": 3,
    "start_time": "2021-11-16T11:53:52.236Z"
   },
   {
    "duration": 3,
    "start_time": "2021-11-16T11:59:12.005Z"
   },
   {
    "duration": 112,
    "start_time": "2021-11-16T12:00:33.446Z"
   },
   {
    "duration": 3,
    "start_time": "2021-11-16T12:02:14.453Z"
   },
   {
    "duration": 3,
    "start_time": "2021-11-16T12:02:39.512Z"
   },
   {
    "duration": 106,
    "start_time": "2021-11-16T12:03:03.460Z"
   },
   {
    "duration": 3,
    "start_time": "2021-11-17T20:37:21.139Z"
   },
   {
    "duration": 3,
    "start_time": "2021-11-17T20:37:22.229Z"
   },
   {
    "duration": 3,
    "start_time": "2021-11-17T20:38:38.806Z"
   },
   {
    "duration": 3,
    "start_time": "2021-11-17T20:38:41.958Z"
   },
   {
    "duration": 3,
    "start_time": "2021-11-17T20:43:46.551Z"
   },
   {
    "duration": 4,
    "start_time": "2021-11-17T20:58:21.835Z"
   },
   {
    "duration": 3,
    "start_time": "2021-11-17T20:59:21.872Z"
   },
   {
    "duration": 4,
    "start_time": "2021-11-17T20:59:45.352Z"
   },
   {
    "duration": 4,
    "start_time": "2021-11-17T20:59:49.646Z"
   },
   {
    "duration": 159,
    "start_time": "2021-11-17T21:02:26.949Z"
   },
   {
    "duration": 3,
    "start_time": "2021-11-17T21:03:53.461Z"
   },
   {
    "duration": 3,
    "start_time": "2021-11-17T21:03:53.694Z"
   },
   {
    "duration": 3,
    "start_time": "2021-11-17T21:05:28.145Z"
   },
   {
    "duration": 116,
    "start_time": "2021-11-17T21:05:57.787Z"
   },
   {
    "duration": 3,
    "start_time": "2021-11-17T21:06:37.993Z"
   },
   {
    "duration": 3,
    "start_time": "2021-11-17T21:06:38.261Z"
   },
   {
    "duration": 3,
    "start_time": "2021-11-17T21:11:54.358Z"
   },
   {
    "duration": 3,
    "start_time": "2021-11-17T21:12:43.846Z"
   },
   {
    "duration": 4,
    "start_time": "2021-11-17T21:13:08.773Z"
   },
   {
    "duration": 3,
    "start_time": "2021-11-17T21:14:44.441Z"
   },
   {
    "duration": 3,
    "start_time": "2021-11-17T21:15:42.059Z"
   },
   {
    "duration": 4,
    "start_time": "2021-11-17T21:15:51.995Z"
   },
   {
    "duration": 3,
    "start_time": "2021-11-17T21:15:53.923Z"
   },
   {
    "duration": 3,
    "start_time": "2021-11-17T21:15:55.282Z"
   },
   {
    "duration": 3,
    "start_time": "2021-11-17T21:16:28.492Z"
   },
   {
    "duration": 3,
    "start_time": "2021-11-17T21:16:32.603Z"
   },
   {
    "duration": 3,
    "start_time": "2021-11-17T21:17:06.941Z"
   },
   {
    "duration": 98,
    "start_time": "2021-11-17T21:18:05.733Z"
   },
   {
    "duration": 4,
    "start_time": "2021-11-17T21:21:35.255Z"
   },
   {
    "duration": 3,
    "start_time": "2021-11-17T21:21:37.804Z"
   },
   {
    "duration": 4,
    "start_time": "2021-11-17T21:23:06.071Z"
   },
   {
    "duration": 3,
    "start_time": "2021-11-17T21:23:24.799Z"
   },
   {
    "duration": 3,
    "start_time": "2021-11-17T21:23:32.591Z"
   },
   {
    "duration": 98,
    "start_time": "2021-11-17T21:28:31.559Z"
   },
   {
    "duration": 3,
    "start_time": "2021-11-17T21:28:45.448Z"
   },
   {
    "duration": 3,
    "start_time": "2021-11-17T21:29:17.303Z"
   },
   {
    "duration": 3,
    "start_time": "2021-11-17T21:29:29.617Z"
   },
   {
    "duration": 3,
    "start_time": "2021-11-17T21:29:32.681Z"
   },
   {
    "duration": 3,
    "start_time": "2021-11-17T21:36:11.474Z"
   },
   {
    "duration": 3,
    "start_time": "2021-11-17T21:36:14.791Z"
   },
   {
    "duration": 3,
    "start_time": "2021-11-17T21:36:53.943Z"
   },
   {
    "duration": 3,
    "start_time": "2021-11-17T21:36:56.165Z"
   },
   {
    "duration": 4,
    "start_time": "2021-11-17T21:37:16.590Z"
   },
   {
    "duration": 3,
    "start_time": "2021-11-17T21:37:22.702Z"
   },
   {
    "duration": 4,
    "start_time": "2021-11-17T21:38:03.479Z"
   },
   {
    "duration": 3,
    "start_time": "2021-11-17T21:38:08.601Z"
   },
   {
    "duration": 3,
    "start_time": "2021-11-17T21:38:12.928Z"
   },
   {
    "duration": 3,
    "start_time": "2021-11-17T21:38:48.896Z"
   },
   {
    "duration": 2,
    "start_time": "2021-11-17T21:38:49.171Z"
   },
   {
    "duration": 4,
    "start_time": "2021-11-17T21:39:57.889Z"
   },
   {
    "duration": 3,
    "start_time": "2021-11-17T21:39:58.057Z"
   },
   {
    "duration": 3,
    "start_time": "2021-11-17T21:41:20.108Z"
   },
   {
    "duration": 3,
    "start_time": "2021-11-17T21:41:20.629Z"
   },
   {
    "duration": 3,
    "start_time": "2021-11-17T21:42:49.136Z"
   },
   {
    "duration": 3,
    "start_time": "2021-11-17T21:43:15.137Z"
   },
   {
    "duration": 4,
    "start_time": "2021-11-17T21:43:16.766Z"
   },
   {
    "duration": 4,
    "start_time": "2021-11-17T21:43:31.711Z"
   },
   {
    "duration": 3,
    "start_time": "2021-11-17T21:43:36.312Z"
   },
   {
    "duration": 4,
    "start_time": "2021-11-17T21:45:08.825Z"
   },
   {
    "duration": 4,
    "start_time": "2021-11-17T21:45:10.119Z"
   },
   {
    "duration": 4,
    "start_time": "2021-11-17T21:45:13.748Z"
   },
   {
    "duration": 3,
    "start_time": "2021-11-17T21:45:22.219Z"
   },
   {
    "duration": 3,
    "start_time": "2021-11-17T21:45:33.412Z"
   },
   {
    "duration": 2,
    "start_time": "2021-11-17T21:46:01.885Z"
   },
   {
    "duration": 3,
    "start_time": "2021-11-17T21:46:03.628Z"
   },
   {
    "duration": 107,
    "start_time": "2021-11-17T21:47:32.512Z"
   },
   {
    "duration": 103,
    "start_time": "2021-11-17T21:50:36.243Z"
   },
   {
    "duration": 3,
    "start_time": "2021-11-18T06:28:31.440Z"
   },
   {
    "duration": 3,
    "start_time": "2021-11-18T06:29:00.168Z"
   },
   {
    "duration": 3,
    "start_time": "2021-11-18T06:31:27.008Z"
   },
   {
    "duration": 2,
    "start_time": "2021-11-18T06:35:34.288Z"
   },
   {
    "duration": 2,
    "start_time": "2021-11-18T06:38:04.527Z"
   }
  ],
  "colab": {
   "provenance": []
  },
  "kernelspec": {
   "display_name": "Python 3 (ipykernel)",
   "language": "python",
   "name": "python3"
  },
  "language_info": {
   "codemirror_mode": {
    "name": "ipython",
    "version": 3
   },
   "file_extension": ".py",
   "mimetype": "text/x-python",
   "name": "python",
   "nbconvert_exporter": "python",
   "pygments_lexer": "ipython3",
   "version": "3.9.22"
  },
  "toc": {
   "base_numbering": 1,
   "nav_menu": {},
   "number_sections": true,
   "sideBar": true,
   "skip_h1_title": false,
   "title_cell": "Table of Contents",
   "title_sidebar": "Contents",
   "toc_cell": false,
   "toc_position": {},
   "toc_section_display": true,
   "toc_window_display": true
  }
 },
 "nbformat": 4,
 "nbformat_minor": 4
}
